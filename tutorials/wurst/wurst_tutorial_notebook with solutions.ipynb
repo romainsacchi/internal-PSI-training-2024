{
 "cells": [
  {
   "cell_type": "markdown",
   "id": "3451dd88",
   "metadata": {},
   "source": [
    "## Wurst Tutorial\n",
    "\n",
    "#### Github repository: [https://github.com/polca/wurst](https://github.com/polca/wurst)\n",
    "#### Documentation: [https://wurst.readthedocs.io/](https://wurst.readthedocs.io/)\n",
    "#### Wurst authors: Chris Mutel, Brian Cox\n",
    "#### Tutorial author: Romain Sacchi\n",
    "#### Duration: 1.5 hours"
   ]
  },
  {
   "cell_type": "markdown",
   "id": "5e1b5708-7ae8-4959-bb8c-99e459934ee6",
   "metadata": {},
   "source": [
    "### Scenario: Prospective Assessment of Future Solar PV Technologies\n",
    "\n",
    "#### Background:\n",
    "The European energy agency is keen on understanding the potential future of solar PV technology. \n",
    "With advances in research, there are predictions of enhanced module efficiency, changes in supply chains, \n",
    "and extended lifetimes for PV modules in the next decade.\n",
    "\n",
    "#### Objective:\n",
    "To modify the ecoinvent data to reflect these anticipated changes and evaluate the prospective environmental \n",
    "benefits or potential concerns of these future solar PV technologies."
   ]
  },
  {
   "cell_type": "markdown",
   "id": "275d199a",
   "metadata": {},
   "source": [
    "### 1. Introduction:"
   ]
  },
  {
   "cell_type": "markdown",
   "id": "b69c6b40",
   "metadata": {},
   "source": [
    "`wurst` is a Python library tailored for performing operations Life Cycle Assessment (LCA) data, especially the [ecoinvent](https://ecoinvent.org/) database. It provides tools to search, filter, modify, and link LCA datasets. It is a core library of [`premise`](https://github.com/polca/premise), and certainly a core library of the [POLCA](https://github.com/polca/) tool kit."
   ]
  },
  {
   "cell_type": "markdown",
   "id": "3fef1684-04a9-4f55-9363-b92fb5f2a7a5",
   "metadata": {},
   "source": [
    "### Data Exploration:\n",
    "\n",
    "1. Load the ecoinvent database.\n",
    "2. Extract all processes related to European solar PV."
   ]
  },
  {
   "cell_type": "markdown",
   "id": "ca24f424",
   "metadata": {},
   "source": [
    "### 2. Import:"
   ]
  },
  {
   "cell_type": "code",
   "execution_count": 1,
   "id": "f28948db-e55c-4da3-b9b0-fa51add5403a",
   "metadata": {
    "tags": []
   },
   "outputs": [],
   "source": [
    "import wurst\n",
    "import bw2io, bw2data"
   ]
  },
  {
   "cell_type": "code",
   "execution_count": null,
   "id": "5ee5e944-8bff-49fe-b05a-197d40e3ff7f",
   "metadata": {},
   "outputs": [],
   "source": [
    "if \"wurst\" in bw2data.projects:\n",
    "    bw2data.projects.delete_project(\"wurst\", delete_dir=True)"
   ]
  },
  {
   "cell_type": "code",
   "execution_count": 2,
   "id": "51044d66-ce33-4d8b-bf55-f8bceb72a220",
   "metadata": {},
   "outputs": [],
   "source": [
    "bw2data.projects.set_current(\"wurst\")"
   ]
  },
  {
   "cell_type": "code",
   "execution_count": 3,
   "id": "02ab28fb-6d57-4476-a9de-93382cf4def7",
   "metadata": {},
   "outputs": [
    {
     "name": "stderr",
     "output_type": "stream",
     "text": [
      "Writing activities to SQLite3 database:\n"
     ]
    },
    {
     "name": "stdout",
     "output_type": "stream",
     "text": [
      "Creating default biosphere\n",
      "\n",
      "Applying strategy: normalize_units\n",
      "Applying strategy: drop_unspecified_subcategories\n",
      "Applying strategy: ensure_categories_are_tuples\n",
      "Applied 3 strategies in 0.00 seconds\n"
     ]
    },
    {
     "name": "stderr",
     "output_type": "stream",
     "text": [
      "0% [##############################] 100% | ETA: 00:00:00\n",
      "Total time elapsed: 00:00:00\n"
     ]
    },
    {
     "name": "stdout",
     "output_type": "stream",
     "text": [
      "Title: Writing activities to SQLite3 database:\n",
      "  Started: 04/03/2024 11:19:24\n",
      "  Finished: 04/03/2024 11:19:24\n",
      "  Total time elapsed: 00:00:00\n",
      "  CPU %: 80.60\n",
      "  Memory %: 1.14\n",
      "Created database: biosphere3\n",
      "Creating default LCIA methods\n",
      "\n",
      "Wrote 762 LCIA methods with 227223 characterization factors\n",
      "Creating core data migrations\n",
      "\n"
     ]
    }
   ],
   "source": [
    "bw2io.bw2setup()"
   ]
  },
  {
   "cell_type": "code",
   "execution_count": 6,
   "id": "a744a6e6-0cfe-4677-9ea2-ee90150f47b8",
   "metadata": {},
   "outputs": [
    {
     "name": "stdout",
     "output_type": "stream",
     "text": [
      "Extracting XML data from 21238 datasets\n",
      "Extracted 21238 datasets in 18.89 seconds\n",
      "Applying strategy: normalize_units\n",
      "Applying strategy: update_ecoinvent_locations\n",
      "Applying strategy: remove_zero_amount_coproducts\n",
      "Applying strategy: remove_zero_amount_inputs_with_no_activity\n",
      "Applying strategy: remove_unnamed_parameters\n",
      "Applying strategy: es2_assign_only_product_with_amount_as_reference_product\n",
      "Applying strategy: assign_single_product_as_activity\n",
      "Applying strategy: create_composite_code\n",
      "Applying strategy: drop_unspecified_subcategories\n",
      "Applying strategy: fix_ecoinvent_flows_pre35\n",
      "Applying strategy: drop_temporary_outdated_biosphere_flows\n",
      "Applying strategy: link_biosphere_by_flow_uuid\n",
      "Applying strategy: link_internal_technosphere_by_composite_code\n",
      "Applying strategy: delete_exchanges_missing_activity\n",
      "Applying strategy: delete_ghost_exchanges\n",
      "Applying strategy: remove_uncertainty_from_negative_loss_exchanges\n",
      "Applying strategy: fix_unreasonably_high_lognormal_uncertainties\n",
      "Applying strategy: convert_activity_parameters_to_list\n",
      "Applying strategy: add_cpc_classification_from_single_reference_product\n",
      "Applying strategy: delete_none_synonyms\n",
      "Applying strategy: set_lognormal_loc_value\n"
     ]
    },
    {
     "name": "stderr",
     "output_type": "stream",
     "text": [
      "Writing activities to SQLite3 database:\n"
     ]
    },
    {
     "name": "stdout",
     "output_type": "stream",
     "text": [
      "Applied 21 strategies in 2.80 seconds\n",
      "21238 datasets\n",
      "674593 exchanges\n",
      "0 unlinked exchanges\n",
      "  \n"
     ]
    },
    {
     "name": "stderr",
     "output_type": "stream",
     "text": [
      "0% [##############################] 100% | ETA: 00:00:00\n",
      "Total time elapsed: 00:00:12\n"
     ]
    },
    {
     "name": "stdout",
     "output_type": "stream",
     "text": [
      "Title: Writing activities to SQLite3 database:\n",
      "  Started: 04/03/2024 11:21:10\n",
      "  Finished: 04/03/2024 11:21:23\n",
      "  Total time elapsed: 00:00:12\n",
      "  CPU %: 99.20\n",
      "  Memory %: 12.88\n",
      "Created database: ecoinvent 3.9.1 cutoff\n"
     ]
    }
   ],
   "source": [
    "# file path to the place with the ecoinvent spold files (datasets directory)\n",
    "fpei39 = \"/Users/romain/Documents/ecoinvent 3.9.1_cutoff_ecoSpold02/datasets\"\n",
    "if 'ecoinvent 3.9.1 cutoff' in bw2data.databases:\n",
    "    print(\"Database has already been imported\")\n",
    "else:\n",
    "    ei39 = bw2io.SingleOutputEcospold2Importer(fpei39, 'ecoinvent 3.9.1 cutoff')\n",
    "    ei39.apply_strategies()\n",
    "    ei39.statistics()\n",
    "    ei39.write_database()"
   ]
  },
  {
   "cell_type": "markdown",
   "id": "155488c4-8659-49c6-9e2e-efc233542a20",
   "metadata": {},
   "source": [
    "#### 2.1 activate a project with ecoinvent"
   ]
  },
  {
   "cell_type": "code",
   "execution_count": 7,
   "id": "26948edf-d45a-4082-a233-1151276905b5",
   "metadata": {
    "tags": []
   },
   "outputs": [],
   "source": [
    "bw2data.projects.set_current(\"wurst\")"
   ]
  },
  {
   "cell_type": "markdown",
   "id": "a90b83d3-80d7-48e4-ac54-c9d7d60d32a6",
   "metadata": {},
   "source": [
    "#### 2.2 list databases"
   ]
  },
  {
   "cell_type": "code",
   "execution_count": 8,
   "id": "5e868c55-4a3d-445f-b0a7-45b88a471dc8",
   "metadata": {
    "tags": []
   },
   "outputs": [
    {
     "data": {
      "text/plain": [
       "Databases dictionary with 2 object(s):\n",
       "\tbiosphere3\n",
       "\tecoinvent 3.9.1 cutoff"
      ]
     },
     "execution_count": 8,
     "metadata": {},
     "output_type": "execute_result"
    }
   ],
   "source": [
    "bw2data.databases"
   ]
  },
  {
   "cell_type": "markdown",
   "id": "17124253",
   "metadata": {},
   "source": [
    "### 3. Extracting Data:"
   ]
  },
  {
   "cell_type": "code",
   "execution_count": 9,
   "id": "d062bc8e",
   "metadata": {
    "tags": []
   },
   "outputs": [
    {
     "name": "stdout",
     "output_type": "stream",
     "text": [
      "Getting activity data\n"
     ]
    },
    {
     "name": "stderr",
     "output_type": "stream",
     "text": [
      "100%|█████████████████████████████████| 21238/21238 [00:00<00:00, 497048.95it/s]\n"
     ]
    },
    {
     "name": "stdout",
     "output_type": "stream",
     "text": [
      "Adding exchange data to activities\n"
     ]
    },
    {
     "name": "stderr",
     "output_type": "stream",
     "text": [
      "100%|████████████████████████████████| 674593/674593 [00:15<00:00, 44208.27it/s]\n"
     ]
    },
    {
     "name": "stdout",
     "output_type": "stream",
     "text": [
      "Filling out exchange data\n"
     ]
    },
    {
     "name": "stderr",
     "output_type": "stream",
     "text": [
      "100%|██████████████████████████████████| 21238/21238 [00:00<00:00, 29860.31it/s]\n"
     ]
    }
   ],
   "source": [
    "database = wurst.extract_brightway2_databases(\"ecoinvent 3.9.1 cutoff\")"
   ]
  },
  {
   "cell_type": "markdown",
   "id": "eaf67653-e8b8-4153-8669-5c551aea4073",
   "metadata": {},
   "source": [
    "Import additional inventories"
   ]
  },
  {
   "cell_type": "markdown",
   "id": "5e0f6851-f57d-4983-8ec3-6c320d1d541a",
   "metadata": {},
   "source": [
    "#### 3.1 Pickle database\n",
    "Doing so allows us to load directly the database without going through extraction again."
   ]
  },
  {
   "cell_type": "code",
   "execution_count": 10,
   "id": "18cfed51-a86b-46c5-bffe-315521fea094",
   "metadata": {
    "tags": []
   },
   "outputs": [],
   "source": [
    "import pickle\n",
    "\n",
    "with open(r\"ei391.pickle\", \"wb\") as output_file:\n",
    "    pickle.dump(database, output_file)"
   ]
  },
  {
   "cell_type": "markdown",
   "id": "d01fb01a-ded6-4db8-8219-de2e47d28d60",
   "metadata": {},
   "source": [
    "#### 3.2 Load database\n",
    "Create a function that will unpickle our database, to avoid extracting it from the brightway project."
   ]
  },
  {
   "cell_type": "code",
   "execution_count": 42,
   "id": "d00bc09d-9034-461f-b3e2-ebc435b99980",
   "metadata": {
    "tags": []
   },
   "outputs": [],
   "source": [
    "import pickle\n",
    "\n",
    "def load_db():\n",
    "    with open(r\"ei391.pickle\", \"rb\") as input_file:\n",
    "        db = pickle.load(input_file)\n",
    "\n",
    "    for ds in db:\n",
    "        if \"categories\" in ds:\n",
    "            del ds[\"categories\"]\n",
    "            \n",
    "    return db"
   ]
  },
  {
   "cell_type": "code",
   "execution_count": 43,
   "id": "bbdbff97-1311-410d-88ef-2c29d2632a34",
   "metadata": {
    "tags": []
   },
   "outputs": [],
   "source": [
    "db = load_db()"
   ]
  },
  {
   "cell_type": "code",
   "execution_count": 44,
   "id": "c5ab02ea-2ef0-4f98-8b6d-37e369fc547e",
   "metadata": {
    "tags": []
   },
   "outputs": [
    {
     "data": {
      "text/plain": [
       "21238"
      ]
     },
     "execution_count": 44,
     "metadata": {},
     "output_type": "execute_result"
    }
   ],
   "source": [
    "len(db)"
   ]
  },
  {
   "cell_type": "code",
   "execution_count": 45,
   "id": "b93129f3-9599-4158-9c37-da107650842f",
   "metadata": {
    "tags": []
   },
   "outputs": [
    {
     "ename": "NameError",
     "evalue": "name 'database' is not defined",
     "output_type": "error",
     "traceback": [
      "\u001b[0;31m---------------------------------------------------------------------------\u001b[0m",
      "\u001b[0;31mNameError\u001b[0m                                 Traceback (most recent call last)",
      "Cell \u001b[0;32mIn[45], line 1\u001b[0m\n\u001b[0;32m----> 1\u001b[0m database \u001b[38;5;241m==\u001b[39m db\n",
      "\u001b[0;31mNameError\u001b[0m: name 'database' is not defined"
     ]
    }
   ],
   "source": [
    "database == db"
   ]
  },
  {
   "cell_type": "code",
   "execution_count": 46,
   "id": "529bbd06-5d60-4c9f-9bb0-f476aa5cffe7",
   "metadata": {
    "tags": []
   },
   "outputs": [],
   "source": [
    "# let's create three databases for 2020, 2035 and 2050\n",
    "db_2020 = load_db()\n",
    "db_2035 = load_db()\n",
    "db_2050 = load_db()"
   ]
  },
  {
   "cell_type": "code",
   "execution_count": 20,
   "id": "ccab7c50-f1f7-4fbc-a41e-feee3fc30d43",
   "metadata": {
    "tags": []
   },
   "outputs": [],
   "source": [
    "# and we delete database and db\n",
    "del database\n",
    "del db"
   ]
  },
  {
   "cell_type": "markdown",
   "id": "98cac1c8",
   "metadata": {},
   "source": [
    "### 4. Searching for Processes:"
   ]
  },
  {
   "cell_type": "markdown",
   "id": "050207de-f0c3-4f3c-af93-293b2a70d1a6",
   "metadata": {},
   "source": [
    "Let's search for European solar panels in ecoinvent."
   ]
  },
  {
   "cell_type": "code",
   "execution_count": 47,
   "id": "9926ea7f-148a-487e-8196-5916f25e539c",
   "metadata": {
    "tags": []
   },
   "outputs": [],
   "source": [
    "import wurst.searching as ws"
   ]
  },
  {
   "cell_type": "code",
   "execution_count": 48,
   "id": "1acfeaf8",
   "metadata": {
    "tags": []
   },
   "outputs": [
    {
     "name": "stdout",
     "output_type": "stream",
     "text": [
      "photovoltaic cell factory construction\n",
      "electricity production, photovoltaic, 3kWp slanted-roof installation, multi-Si, panel, mounted\n",
      "photovoltaic flat-roof installation, 3kWp, single-Si, on roof\n",
      "electricity production, photovoltaic, 570kWp open ground installation, multi-Si\n",
      "electricity production, photovoltaic, 3kWp slanted-roof installation, single-Si, panel, mounted\n",
      "electricity production, photovoltaic, 3kWp slanted-roof installation, multi-Si, panel, mounted\n",
      "silicon production, single crystal, Czochralski process, photovoltaics\n",
      "electricity production, photovoltaic, 3kWp slanted-roof installation, multi-Si, panel, mounted\n",
      "market for photovoltaic plant, 570kWp, multi-Si, on open ground\n",
      "photovoltaic laminate production, single-Si wafer\n",
      "electricity production, photovoltaic, 570kWp open ground installation, multi-Si\n",
      "electricity production, photovoltaic, 3kWp slanted-roof installation, single-Si, panel, mounted\n",
      "electricity production, photovoltaic, 3kWp slanted-roof installation, multi-Si, panel, mounted\n",
      "electricity production, photovoltaic, 3kWp slanted-roof installation, multi-Si, panel, mounted\n",
      "electricity production, photovoltaic, 3kWp slanted-roof installation, single-Si, panel, mounted\n",
      "photovoltaic mounting system production, for flat-roof installation\n",
      "electricity production, photovoltaic, 3kWp slanted-roof installation, single-Si, panel, mounted\n",
      "electricity production, photovoltaic, 3kWp slanted-roof installation, multi-Si, panel, mounted\n",
      "photovoltaic mounting system production, for slanted-roof installation\n",
      "electricity production, photovoltaic, 570kWp open ground installation, multi-Si\n",
      "photovoltaic flat-roof installation, 3kWp, single-Si, on roof\n",
      "electricity production, photovoltaic, 3kWp slanted-roof installation, multi-Si, panel, mounted\n",
      "electricity production, photovoltaic, 3kWp slanted-roof installation, single-Si, panel, mounted\n",
      "electricity production, photovoltaic, 3kWp slanted-roof installation, single-Si, panel, mounted\n",
      "photovoltaic laminate production, single-Si wafer\n",
      "market for photovoltaic slanted-roof installation, 3kWp, multi-Si, panel, mounted, on roof\n",
      "electricity production, photovoltaic, 3kWp slanted-roof installation, multi-Si, panel, mounted\n",
      "electricity production, photovoltaic, 3kWp slanted-roof installation, single-Si, panel, mounted\n",
      "electricity production, photovoltaic, 570kWp open ground installation, multi-Si\n",
      "photovoltaic slanted-roof installation, 3kWp, single-Si, laminated, integrated, on roof\n",
      "market for photovoltaic slanted-roof installation, 3kWp, CIS, panel, mounted, on roof\n",
      "electricity production, photovoltaic, 3kWp slanted-roof installation, single-Si, panel, mounted\n",
      "electricity production, photovoltaic, 3kWp facade installation, multi-Si, panel, mounted\n",
      "electricity production, photovoltaic, 3kWp slanted-roof installation, multi-Si, panel, mounted\n",
      "photovoltaic slanted-roof installation, 3kWp, CIS, panel, mounted, on roof\n",
      "electricity production, photovoltaic, 570kWp open ground installation, multi-Si\n",
      "electricity production, photovoltaic, 3kWp slanted-roof installation, multi-Si, panel, mounted\n",
      "electricity production, photovoltaic, 570kWp open ground installation, multi-Si\n",
      "electricity production, photovoltaic, 3kWp slanted-roof installation, single-Si, panel, mounted\n",
      "photovoltaic laminate production, CdTe\n",
      "electricity production, photovoltaic, 3kWp slanted-roof installation, single-Si, panel, mounted\n",
      "electricity production, photovoltaic, 3kWp slanted-roof installation, single-Si, panel, mounted\n",
      "electricity production, photovoltaic, 570kWp open ground installation, multi-Si\n",
      "electricity production, photovoltaic, 570kWp open ground installation, multi-Si\n",
      "electricity production, photovoltaic, 3kWp slanted-roof installation, multi-Si, panel, mounted\n",
      "photovoltaic laminate production, ribbon-Si\n",
      "electricity production, photovoltaic, 3kWp slanted-roof installation, multi-Si, panel, mounted\n",
      "photovoltaic laminate production, multi-Si wafer\n",
      "electricity production, photovoltaic, 3kWp slanted-roof installation, multi-Si, panel, mounted\n",
      "electricity production, photovoltaic, 3kWp slanted-roof installation, multi-Si, panel, mounted\n",
      "electricity production, photovoltaic, 3kWp slanted-roof installation, multi-Si, panel, mounted\n",
      "electricity production, photovoltaic, 570kWp open ground installation, multi-Si\n",
      "electricity production, photovoltaic, 570kWp open ground installation, multi-Si\n",
      "electricity production, photovoltaic, 3kWp slanted-roof installation, single-Si, panel, mounted\n",
      "electricity production, photovoltaic, 3kWp flat-roof installation, single-Si\n",
      "electricity production, photovoltaic, 3kWp slanted-roof installation, multi-Si, panel, mounted\n",
      "electricity production, photovoltaic, 570kWp open ground installation, multi-Si\n",
      "single-Si wafer production, photovoltaic\n",
      "electricity production, photovoltaic, 3kWp slanted-roof installation, multi-Si, panel, mounted\n",
      "electricity production, photovoltaic, 3kWp slanted-roof installation, multi-Si, panel, mounted\n",
      "market for photovoltaic panel factory\n",
      "market for photovoltaic module, building-integrated, for facade installation\n",
      "electricity production, photovoltaic, 3kWp slanted-roof installation, single-Si, panel, mounted\n",
      "market for photovoltaic facade installation, 3kWp, single-Si, panel, mounted, at building\n",
      "electricity production, photovoltaic, 570kWp open ground installation, multi-Si\n",
      "electricity production, photovoltaic, 3kWp slanted-roof installation, single-Si, panel, mounted\n",
      "electricity production, photovoltaic, 570kWp open ground installation, multi-Si\n",
      "electricity production, photovoltaic, 3kWp slanted-roof installation, multi-Si, panel, mounted\n",
      "electricity production, photovoltaic, 3kWp slanted-roof installation, CdTe, laminated, integrated\n",
      "electricity production, photovoltaic, 570kWp open ground installation, multi-Si\n",
      "electricity production, photovoltaic, 570kWp open ground installation, multi-Si\n",
      "electricity production, photovoltaic, 3kWp slanted-roof installation, a-Si, panel, mounted\n",
      "market for photovoltaic flat-roof installation, 3kWp, multi-Si, on roof\n",
      "electricity production, photovoltaic, 3kWp slanted-roof installation, multi-Si, panel, mounted\n",
      "photovoltaic slanted-roof installation, 3kWp, a-Si, panel, mounted, on roof\n",
      "electricity production, photovoltaic, 3kWp slanted-roof installation, single-Si, panel, mounted\n",
      "electricity production, photovoltaic, 3kWp slanted-roof installation, multi-Si, panel, mounted\n",
      "electricity production, photovoltaic, 3kWp slanted-roof installation, single-Si, panel, mounted\n",
      "electricity production, photovoltaic, 3kWp slanted-roof installation, multi-Si, panel, mounted\n",
      "electricity production, photovoltaic, 570kWp open ground installation, multi-Si\n",
      "photovoltaic facade installation, 3kWp, multi-Si, panel, mounted, at building\n",
      "electricity production, photovoltaic, 3kWp slanted-roof installation, single-Si, panel, mounted\n",
      "electricity production, photovoltaic, 3kWp slanted-roof installation, single-Si, panel, mounted\n",
      "electricity production, photovoltaic, 570kWp open ground installation, multi-Si\n",
      "electricity production, photovoltaic, 3kWp slanted-roof installation, single-Si, panel, mounted\n",
      "electricity production, photovoltaic, 3kWp slanted-roof installation, multi-Si, panel, mounted\n",
      "photovoltaic slanted-roof installation, 3kWp, CIS, panel, mounted, on roof\n",
      "electricity production, photovoltaic, 3kWp slanted-roof installation, single-Si, panel, mounted\n",
      "electricity production, photovoltaic, 3kWp slanted-roof installation, multi-Si, panel, mounted\n",
      "electricity production, photovoltaic, 3kWp slanted-roof installation, ribbon-Si, panel, mounted\n",
      "electricity production, photovoltaic, 3kWp slanted-roof installation, single-Si, panel, mounted\n",
      "market for photovoltaic laminate, a-Si\n",
      "electricity production, photovoltaic, 3kWp slanted-roof installation, single-Si, panel, mounted\n",
      "electricity production, photovoltaic, 570kWp open ground installation, multi-Si\n",
      "electricity production, photovoltaic, 570kWp open ground installation, multi-Si\n",
      "market for photovoltaic laminate, multi-Si wafer\n",
      "electricity production, photovoltaic, 3kWp slanted-roof installation, multi-Si, panel, mounted\n",
      "market for photovoltaic cell, single-Si wafer\n",
      "electricity production, photovoltaic, 3kWp facade installation, multi-Si, laminated, integrated\n",
      "electricity production, photovoltaic, 3kWp slanted-roof installation, single-Si, panel, mounted\n",
      "photovoltaic cell production, ribbon-Si\n",
      "electricity production, photovoltaic, 3kWp slanted-roof installation, multi-Si, panel, mounted\n",
      "electricity production, photovoltaic, 3kWp slanted-roof installation, multi-Si, panel, mounted\n",
      "market for photovoltaic laminate, single-Si wafer\n",
      "electricity production, photovoltaic, 3kWp slanted-roof installation, multi-Si, panel, mounted\n",
      "electricity production, photovoltaic, 3kWp slanted-roof installation, multi-Si, panel, mounted\n",
      "electricity production, photovoltaic, 3kWp slanted-roof installation, multi-Si, panel, mounted\n",
      "electricity production, photovoltaic, 3kWp slanted-roof installation, multi-Si, panel, mounted\n",
      "electricity production, photovoltaic, 3kWp slanted-roof installation, single-Si, panel, mounted\n",
      "photovoltaic panel production, ribbon-Si\n",
      "electricity production, photovoltaic, 3kWp facade installation, single-Si, laminated, integrated\n",
      "electricity production, photovoltaic, 3kWp slanted-roof installation, multi-Si, panel, mounted\n",
      "electricity production, photovoltaic, 3kWp slanted-roof installation, single-Si, panel, mounted\n",
      "electricity production, photovoltaic, 3kWp slanted-roof installation, multi-Si, panel, mounted\n",
      "market for photovoltaic module, building-integrated, for slanted-roof installation\n",
      "electricity production, photovoltaic, 570kWp open ground installation, multi-Si\n",
      "photovoltaic slanted-roof installation, 3kWp, ribbon-Si, laminated, integrated, on roof\n",
      "electricity production, photovoltaic, 570kWp open ground installation, multi-Si\n",
      "electricity production, photovoltaic, 3kWp slanted-roof installation, multi-Si, panel, mounted\n",
      "photovoltaic cell production, single-Si wafer\n",
      "electricity production, photovoltaic, 3kWp slanted-roof installation, multi-Si, panel, mounted\n",
      "photovoltaic laminate production, CdTe\n",
      "photovoltaic slanted-roof installation, 3kWp, a-Si, laminated, integrated, on roof\n",
      "electricity production, photovoltaic, 3kWp facade installation, multi-Si, panel, mounted\n",
      "electricity production, photovoltaic, 3kWp slanted-roof installation, multi-Si, panel, mounted\n",
      "electricity production, photovoltaic, 3kWp slanted-roof installation, single-Si, panel, mounted\n",
      "electricity production, photovoltaic, 3kWp slanted-roof installation, single-Si, panel, mounted\n",
      "electricity production, photovoltaic, 3kWp slanted-roof installation, multi-Si, panel, mounted\n",
      "electricity production, photovoltaic, 3kWp slanted-roof installation, CIS, panel, mounted\n",
      "electricity production, photovoltaic, 570kWp open ground installation, multi-Si\n",
      "electricity production, photovoltaic, 570kWp open ground installation, multi-Si\n",
      "photovoltaic laminate production, CdTe\n",
      "electricity production, photovoltaic, 3kWp slanted-roof installation, multi-Si, panel, mounted\n",
      "photovoltaic panel production, single-Si wafer\n",
      "electricity production, photovoltaic, 570kWp open ground installation, multi-Si\n",
      "photovoltaic slanted-roof installation, 3kWp, multi-Si, panel, mounted, on roof\n",
      "electricity production, photovoltaic, 3kWp slanted-roof installation, multi-Si, panel, mounted\n",
      "electricity production, photovoltaic, 570kWp open ground installation, multi-Si\n",
      "photovoltaic laminate production, a-Si\n",
      "electricity production, photovoltaic, 3kWp slanted-roof installation, multi-Si, panel, mounted\n",
      "electricity production, photovoltaic, 3kWp slanted-roof installation, single-Si, panel, mounted\n",
      "electricity production, photovoltaic, 3kWp slanted-roof installation, single-Si, panel, mounted\n",
      "photovoltaic panel production, CIS\n",
      "electricity production, photovoltaic, 570kWp open ground installation, multi-Si\n",
      "market for photovoltaic slanted-roof installation, 3kWp, single-Si, panel, mounted, on roof\n",
      "photovoltaic cell production, ribbon-Si\n",
      "photovoltaic slanted-roof installation, 3kWp, ribbon-Si, panel, mounted, on roof\n",
      "market for photovoltaic slanted-roof installation, 3kWp, single-Si, laminated, integrated, on roof\n",
      "electricity production, photovoltaic, 3kWp slanted-roof installation, multi-Si, panel, mounted\n",
      "electricity production, photovoltaic, 3kWp slanted-roof installation, multi-Si, panel, mounted\n",
      "photovoltaic mounting system production, for flat-roof installation\n",
      "photovoltaic flat-roof installation, 3kWp, multi-Si, on roof\n",
      "electricity production, photovoltaic, 570kWp open ground installation, multi-Si\n",
      "electricity production, photovoltaic, 570kWp open ground installation, multi-Si\n",
      "electricity production, photovoltaic, 3kWp slanted-roof installation, single-Si, panel, mounted\n",
      "electricity production, photovoltaic, 3kWp slanted-roof installation, single-Si, panel, mounted\n",
      "electricity production, photovoltaic, 570kWp open ground installation, multi-Si\n",
      "electricity production, photovoltaic, 3kWp slanted-roof installation, multi-Si, panel, mounted\n",
      "electricity production, photovoltaic, 3kWp slanted-roof installation, multi-Si, laminated, integrated\n",
      "electricity production, photovoltaic, 3kWp slanted-roof installation, single-Si, panel, mounted\n",
      "electricity production, photovoltaic, 3kWp slanted-roof installation, multi-Si, panel, mounted\n",
      "photovoltaic panel production, a-Si\n",
      "electricity production, photovoltaic, 3kWp slanted-roof installation, multi-Si, panel, mounted\n",
      "electricity production, photovoltaic, 3kWp slanted-roof installation, single-Si, laminated, integrated\n",
      "electricity production, photovoltaic, 3kWp slanted-roof installation, single-Si, panel, mounted\n",
      "electricity production, photovoltaic, 3kWp slanted-roof installation, multi-Si, panel, mounted\n",
      "electricity production, photovoltaic, 570kWp open ground installation, multi-Si\n",
      "electricity production, photovoltaic, 3kWp slanted-roof installation, multi-Si, panel, mounted\n",
      "electricity production, photovoltaic, 3kWp slanted-roof installation, single-Si, panel, mounted\n",
      "electricity production, photovoltaic, 3kWp slanted-roof installation, multi-Si, panel, mounted\n",
      "electricity production, photovoltaic, 570kWp open ground installation, multi-Si\n",
      "electricity production, photovoltaic, 3kWp slanted-roof installation, multi-Si, panel, mounted\n",
      "electricity production, photovoltaic, 3kWp slanted-roof installation, single-Si, panel, mounted\n",
      "electricity production, photovoltaic, 3kWp slanted-roof installation, multi-Si, panel, mounted\n",
      "electricity production, photovoltaic, 3kWp slanted-roof installation, multi-Si, panel, mounted\n",
      "electricity production, photovoltaic, 3kWp slanted-roof installation, a-Si, panel, mounted\n",
      "electricity production, photovoltaic, 3kWp slanted-roof installation, multi-Si, panel, mounted\n",
      "electricity production, photovoltaic, 3kWp slanted-roof installation, single-Si, panel, mounted\n",
      "electricity production, photovoltaic, 3kWp slanted-roof installation, single-Si, panel, mounted\n",
      "market for photovoltaics, electric installation for 3kWp module, at building\n",
      "photovoltaic mounting system production, for slanted-roof installation\n",
      "electricity production, photovoltaic, 570kWp open ground installation, multi-Si\n",
      "electricity production, photovoltaic, 3kWp slanted-roof installation, single-Si, panel, mounted\n",
      "electricity production, photovoltaic, 570kWp open ground installation, multi-Si\n",
      "electricity production, photovoltaic, 3kWp slanted-roof installation, single-Si, panel, mounted\n",
      "electricity production, photovoltaic, 3kWp slanted-roof installation, single-Si, panel, mounted\n",
      "electricity production, photovoltaic, 3kWp slanted-roof installation, multi-Si, panel, mounted\n",
      "market for silicon, single crystal, Czochralski process, photovoltaics\n",
      "electricity production, photovoltaic, 570kWp open ground installation, multi-Si\n",
      "market for silicon, single crystal, Czochralski process, photovoltaics\n",
      "electricity production, photovoltaic, 3kWp slanted-roof installation, multi-Si, panel, mounted\n",
      "market for photovoltaic slanted-roof installation, 3kWp, multi-Si, laminated, integrated, on roof\n",
      "electricity production, photovoltaic, 3kWp slanted-roof installation, multi-Si, panel, mounted\n",
      "electricity production, photovoltaic, 3kWp slanted-roof installation, multi-Si, panel, mounted\n",
      "market for photovoltaic laminate, CdTe\n",
      "photovoltaic slanted-roof installation, 3kWp, a-Si, panel, mounted, on roof\n",
      "electricity production, photovoltaic, 3kWp slanted-roof installation, single-Si, panel, mounted\n",
      "electricity production, photovoltaic, 3kWp slanted-roof installation, multi-Si, panel, mounted\n",
      "electricity production, photovoltaic, 3kWp slanted-roof installation, multi-Si, panel, mounted\n",
      "electricity production, photovoltaic, 3kWp slanted-roof installation, multi-Si, panel, mounted\n",
      "market for photovoltaic mounting system, for slanted-roof installation\n",
      "electricity production, photovoltaic, 3kWp slanted-roof installation, multi-Si, panel, mounted\n",
      "electricity production, photovoltaic, 3kWp slanted-roof installation, single-Si, panel, mounted\n",
      "electricity production, photovoltaic, 3kWp slanted-roof installation, multi-Si, panel, mounted\n",
      "electricity production, photovoltaic, 3kWp slanted-roof installation, single-Si, panel, mounted\n",
      "electricity production, photovoltaic, 3kWp slanted-roof installation, multi-Si, panel, mounted\n",
      "market for photovoltaic slanted-roof installation, 3kWp, a-Si, panel, mounted, on roof\n",
      "electricity production, photovoltaic, 3kWp slanted-roof installation, ribbon-Si, panel, mounted\n",
      "photovoltaic cell production, multi-Si wafer\n",
      "electricity production, photovoltaic, 570kWp open ground installation, multi-Si\n",
      "market for photovoltaic facade installation, 3kWp, single-Si, laminated, integrated, at building\n",
      "single-Si wafer production, photovoltaic\n",
      "photovoltaic slanted-roof installation, 3kWp, ribbon-Si, panel, mounted, on roof\n",
      "electricity production, photovoltaic, 3kWp slanted-roof installation, multi-Si, panel, mounted\n",
      "market for photovoltaic cell, multi-Si wafer\n",
      "electricity production, photovoltaic, 570kWp open ground installation, multi-Si\n",
      "electricity production, photovoltaic, 3kWp slanted-roof installation, single-Si, panel, mounted\n",
      "electricity production, photovoltaic, 3kWp slanted-roof installation, ribbon-Si, laminated, integrated\n",
      "electricity production, photovoltaic, 570kWp open ground installation, multi-Si\n",
      "electricity production, photovoltaic, 3kWp slanted-roof installation, multi-Si, panel, mounted\n",
      "electricity production, photovoltaic, 3kWp slanted-roof installation, multi-Si, panel, mounted\n",
      "photovoltaic slanted-roof installation, 3kWp, ribbon-Si, laminated, integrated, on roof\n",
      "electricity production, photovoltaic, 3kWp slanted-roof installation, multi-Si, panel, mounted\n",
      "photovoltaic mounting system production, for 570kWp open ground module\n",
      "electricity production, photovoltaic, 3kWp slanted-roof installation, single-Si, panel, mounted\n",
      "electricity production, photovoltaic, 3kWp slanted-roof installation, multi-Si, panel, mounted\n",
      "photovoltaics, electric installation for 570kWp module, open ground\n",
      "electricity production, photovoltaic, 3kWp slanted-roof installation, multi-Si, panel, mounted\n",
      "electricity production, photovoltaic, 570kWp open ground installation, multi-Si\n",
      "electricity production, photovoltaic, 570kWp open ground installation, multi-Si\n",
      "market for photovoltaic panel, multi-Si wafer\n",
      "electricity production, photovoltaic, 3kWp slanted-roof installation, multi-Si, panel, mounted\n",
      "photovoltaic slanted-roof installation, 3kWp, single-Si, panel, mounted, on roof\n",
      "electricity production, photovoltaic, 3kWp slanted-roof installation, multi-Si, panel, mounted\n",
      "electricity production, photovoltaic, 570kWp open ground installation, multi-Si\n",
      "electricity production, photovoltaic, 570kWp open ground installation, multi-Si\n",
      "electricity production, photovoltaic, 3kWp slanted-roof installation, multi-Si, panel, mounted\n",
      "electricity production, photovoltaic, 3kWp slanted-roof installation, multi-Si, panel, mounted\n",
      "electricity production, photovoltaic, 3kWp slanted-roof installation, single-Si, panel, mounted\n",
      "electricity production, photovoltaic, 3kWp slanted-roof installation, single-Si, panel, mounted\n",
      "electricity production, photovoltaic, 3kWp slanted-roof installation, single-Si, laminated, integrated\n",
      "electricity production, photovoltaic, 3kWp slanted-roof installation, multi-Si, panel, mounted\n",
      "electricity production, photovoltaic, 3kWp slanted-roof installation, single-Si, panel, mounted\n",
      "electricity production, photovoltaic, 3kWp slanted-roof installation, single-Si, panel, mounted\n",
      "electricity production, photovoltaic, 3kWp slanted-roof installation, CdTe, laminated, integrated\n",
      "electricity production, photovoltaic, 3kWp slanted-roof installation, single-Si, panel, mounted\n",
      "electricity production, photovoltaic, 3kWp slanted-roof installation, multi-Si, panel, mounted\n",
      "photovoltaic facade installation, 3kWp, multi-Si, panel, mounted, at building\n",
      "electricity production, photovoltaic, 3kWp slanted-roof installation, multi-Si, panel, mounted\n",
      "photovoltaic panel factory construction\n",
      "electricity production, photovoltaic, 3kWp slanted-roof installation, multi-Si, panel, mounted\n",
      "electricity production, photovoltaic, 3kWp slanted-roof installation, single-Si, panel, mounted\n",
      "electricity production, photovoltaic, 570kWp open ground installation, multi-Si\n",
      "electricity production, photovoltaic, 3kWp slanted-roof installation, single-Si, panel, mounted\n",
      "electricity production, photovoltaic, 3kWp slanted-roof installation, multi-Si, panel, mounted\n",
      "electricity production, photovoltaic, 3kWp slanted-roof installation, multi-Si, panel, mounted\n",
      "electricity production, photovoltaic, 3kWp slanted-roof installation, single-Si, panel, mounted\n",
      "electricity production, photovoltaic, 3kWp slanted-roof installation, single-Si, panel, mounted\n",
      "market for photovoltaic facade installation, 3kWp, multi-Si, panel, mounted, at building\n",
      "electricity production, photovoltaic, 3kWp slanted-roof installation, single-Si, panel, mounted\n",
      "electricity production, photovoltaic, 3kWp slanted-roof installation, single-Si, panel, mounted\n",
      "electricity production, photovoltaic, 3kWp slanted-roof installation, multi-Si, panel, mounted\n",
      "electricity production, photovoltaic, 3kWp slanted-roof installation, multi-Si, panel, mounted\n",
      "silicon production, single crystal, Czochralski process, photovoltaics\n",
      "photovoltaic slanted-roof installation, 3kWp, multi-Si, panel, mounted, on roof\n",
      "market for photovoltaic mounting system, for facade installation\n",
      "electricity production, photovoltaic, 3kWp slanted-roof installation, multi-Si, panel, mounted\n",
      "electricity production, photovoltaic, 3kWp slanted-roof installation, multi-Si, panel, mounted\n",
      "market for photovoltaic laminate, CIS\n",
      "photovoltaic slanted-roof installation, 3kWp, a-Si, laminated, integrated, on roof\n",
      "electricity production, photovoltaic, 3kWp slanted-roof installation, single-Si, panel, mounted\n",
      "market for photovoltaics, electric installation for 570kWp module, open ground\n",
      "electricity production, photovoltaic, 3kWp slanted-roof installation, multi-Si, laminated, integrated\n",
      "electricity production, photovoltaic, 3kWp slanted-roof installation, multi-Si, panel, mounted\n",
      "electricity production, photovoltaic, 3kWp slanted-roof installation, multi-Si, panel, mounted\n",
      "electricity production, photovoltaic, 3kWp slanted-roof installation, single-Si, panel, mounted\n",
      "electricity production, photovoltaic, 3kWp slanted-roof installation, multi-Si, panel, mounted\n",
      "electricity production, photovoltaic, 3kWp slanted-roof installation, multi-Si, panel, mounted\n",
      "photovoltaic slanted-roof installation, 3kWp, single-Si, panel, mounted, on roof\n",
      "electricity production, photovoltaic, 3kWp slanted-roof installation, multi-Si, panel, mounted\n",
      "photovoltaic module production, building-integrated, for facade installation\n",
      "electricity production, photovoltaic, 3kWp slanted-roof installation, single-Si, panel, mounted\n",
      "electricity production, photovoltaic, 3kWp flat-roof installation, multi-Si\n",
      "electricity production, photovoltaic, 3kWp slanted-roof installation, single-Si, panel, mounted\n",
      "electricity production, photovoltaic, 3kWp slanted-roof installation, multi-Si, panel, mounted\n",
      "electricity production, photovoltaic, 3kWp flat-roof installation, single-Si\n",
      "electricity production, photovoltaic, 3kWp slanted-roof installation, multi-Si, panel, mounted\n",
      "electricity production, photovoltaic, 3kWp slanted-roof installation, CIS, panel, mounted\n",
      "electricity production, photovoltaic, 3kWp slanted-roof installation, single-Si, panel, mounted\n",
      "electricity production, photovoltaic, 3kWp slanted-roof installation, single-Si, panel, mounted\n",
      "market for photovoltaic panel, CIS\n",
      "electricity production, photovoltaic, 3kWp slanted-roof installation, single-Si, panel, mounted\n",
      "electricity production, photovoltaic, 570kWp open ground installation, multi-Si\n",
      "electricity production, photovoltaic, 570kWp open ground installation, multi-Si\n",
      "electricity production, photovoltaic, 3kWp slanted-roof installation, multi-Si, panel, mounted\n",
      "electricity production, photovoltaic, 3kWp slanted-roof installation, single-Si, panel, mounted\n",
      "photovoltaic facade installation, 3kWp, single-Si, panel, mounted, at building\n",
      "market for photovoltaic mounting system, for 570kWp open ground module\n",
      "electricity production, photovoltaic, 3kWp slanted-roof installation, single-Si, panel, mounted\n",
      "photovoltaic facade installation, 3kWp, single-Si, laminated, integrated, at building\n",
      "electricity production, photovoltaic, 3kWp slanted-roof installation, multi-Si, panel, mounted\n",
      "electricity production, photovoltaic, 3kWp slanted-roof installation, single-Si, panel, mounted\n",
      "electricity production, photovoltaic, 3kWp slanted-roof installation, multi-Si, panel, mounted\n",
      "electricity production, photovoltaic, 3kWp slanted-roof installation, ribbon-Si, laminated, integrated\n",
      "electricity production, photovoltaic, 3kWp slanted-roof installation, single-Si, panel, mounted\n",
      "electricity production, photovoltaic, 3kWp slanted-roof installation, multi-Si, panel, mounted\n",
      "photovoltaic slanted-roof installation, 3kWp, CdTe, laminated, integrated, on roof\n",
      "photovoltaic laminate production, a-Si\n",
      "electricity production, photovoltaic, 3kWp slanted-roof installation, multi-Si, panel, mounted\n",
      "electricity production, photovoltaic, 3kWp slanted-roof installation, single-Si, panel, mounted, renewable energy produc\n",
      "market for photovoltaic flat-roof installation, 3kWp, single-Si, on roof\n",
      "electricity production, photovoltaic, 3kWp slanted-roof installation, single-Si, panel, mounted\n",
      "electricity production, photovoltaic, 570kWp open ground installation, multi-Si\n",
      "electricity production, photovoltaic, 3kWp slanted-roof installation, multi-Si, panel, mounted\n",
      "electricity production, photovoltaic, 3kWp slanted-roof installation, multi-Si, panel, mounted\n",
      "photovoltaic cell production, single-Si wafer\n",
      "electricity production, photovoltaic, 570kWp open ground installation, multi-Si\n",
      "electricity production, photovoltaic, 570kWp open ground installation, multi-Si\n",
      "electricity production, photovoltaic, 3kWp slanted-roof installation, single-Si, panel, mounted\n",
      "electricity production, photovoltaic, 3kWp slanted-roof installation, multi-Si, panel, mounted, renewable energy product\n",
      "photovoltaic module production, building-integrated, for slanted-roof installation\n",
      "photovoltaic laminate production, CdTe\n",
      "electricity production, photovoltaic, 3kWp facade installation, single-Si, panel, mounted\n",
      "electricity production, photovoltaic, 3kWp slanted-roof installation, multi-Si, panel, mounted\n",
      "electricity production, photovoltaic, 3kWp slanted-roof installation, single-Si, panel, mounted\n",
      "electricity, low voltage, photovoltaic, import from Germany\n",
      "photovoltaic slanted-roof installation, 3kWp, single-Si, laminated, integrated, on roof\n",
      "market for photovoltaic slanted-roof installation, 3kWp, ribbon-Si, laminated, integrated, on roof\n",
      "electricity production, photovoltaic, 3kWp slanted-roof installation, multi-Si, panel, mounted\n",
      "electricity production, photovoltaic, 3kWp slanted-roof installation, single-Si, panel, mounted\n",
      "electricity production, photovoltaic, 570kWp open ground installation, multi-Si\n",
      "electricity production, photovoltaic, 570kWp open ground installation, multi-Si\n",
      "photovoltaic laminate production, multi-Si wafer\n",
      "electricity production, photovoltaic, 3kWp slanted-roof installation, multi-Si, panel, mounted\n",
      "electricity production, photovoltaic, 3kWp slanted-roof installation, multi-Si, panel, mounted\n",
      "electricity production, photovoltaic, 3kWp slanted-roof installation, single-Si, panel, mounted\n",
      "electricity production, photovoltaic, 3kWp slanted-roof installation, a-Si, laminated, integrated\n",
      "electricity production, photovoltaic, 3kWp slanted-roof installation, single-Si, panel, mounted\n",
      "electricity production, photovoltaic, 570kWp open ground installation, multi-Si\n",
      "photovoltaic laminate production, CIS\n",
      "electricity production, photovoltaic, 570kWp open ground installation, multi-Si\n",
      "photovoltaic cell production, multi-Si wafer\n",
      "electricity production, photovoltaic, 3kWp slanted-roof installation, multi-Si, panel, mounted\n",
      "electricity production, photovoltaic, 3kWp slanted-roof installation, multi-Si, panel, mounted\n",
      "electricity production, photovoltaic, 3kWp slanted-roof installation, single-Si, panel, mounted\n",
      "electricity production, photovoltaic, 3kWp slanted-roof installation, single-Si, panel, mounted\n",
      "electricity production, photovoltaic, 3kWp slanted-roof installation, single-Si, panel, mounted\n",
      "electricity production, photovoltaic, 3kWp slanted-roof installation, single-Si, panel, mounted\n",
      "electricity production, photovoltaic, 3kWp slanted-roof installation, multi-Si, panel, mounted\n",
      "market for photovoltaic facade installation, 3kWp, multi-Si, laminated, integrated, at building\n",
      "electricity production, photovoltaic, 3kWp slanted-roof installation, multi-Si, panel, mounted\n",
      "electricity production, photovoltaic, 3kWp slanted-roof installation, multi-Si, panel, mounted\n",
      "photovoltaic module production, building-integrated, for facade installation\n",
      "photovoltaic slanted-roof installation, 3kWp, CdTe, laminated, integrated, on roof\n",
      "electricity production, photovoltaic, 570kWp open ground installation, multi-Si\n",
      "photovoltaic facade installation, 3kWp, single-Si, panel, mounted, at building\n",
      "electricity production, photovoltaic, 570kWp open ground installation, multi-Si\n",
      "electricity production, photovoltaic, 570kWp open ground installation, multi-Si\n",
      "electricity production, photovoltaic, 3kWp slanted-roof installation, single-Si, panel, mounted\n",
      "market for photovoltaic mounting system, for flat-roof installation\n",
      "electricity production, photovoltaic, 3kWp slanted-roof installation, a-Si, laminated, integrated\n",
      "photovoltaic panel production, a-Si\n",
      "electricity production, photovoltaic, 3kWp slanted-roof installation, multi-Si, panel, mounted\n",
      "electricity production, photovoltaic, 3kWp slanted-roof installation, multi-Si, panel, mounted\n",
      "market for photovoltaic panel, single-Si wafer\n",
      "market for photovoltaic slanted-roof installation, 3kWp, a-Si, laminated, integrated, on roof\n",
      "photovoltaic panel production, multi-Si wafer\n",
      "photovoltaic slanted-roof installation, 3kWp, multi-Si, laminated, integrated, on roof\n",
      "electricity production, photovoltaic, 3kWp slanted-roof installation, multi-Si, panel, mounted\n",
      "electricity production, photovoltaic, 3kWp slanted-roof installation, single-Si, panel, mounted\n",
      "photovoltaic module production, building-integrated, for slanted-roof installation\n",
      "electricity production, photovoltaic, 3kWp slanted-roof installation, multi-Si, panel, mounted\n",
      "electricity production, photovoltaic, 3kWp facade installation, single-Si, laminated, integrated\n",
      "electricity production, photovoltaic, 3kWp slanted-roof installation, multi-Si, panel, mounted\n",
      "electricity production, photovoltaic, 570kWp open ground installation, multi-Si\n",
      "electricity production, photovoltaic, 570kWp open ground installation, multi-Si\n",
      "electricity production, photovoltaic, 570kWp open ground installation, multi-Si\n",
      "market for photovoltaic panel, ribbon-Si\n",
      "electricity production, photovoltaic, 3kWp slanted-roof installation, multi-Si, panel, mounted\n",
      "photovoltaics, electric installation for 3kWp module, at building\n",
      "photovoltaic laminate production, CIS\n",
      "electricity production, photovoltaic, 570kWp open ground installation, multi-Si\n",
      "electricity production, photovoltaic, 3kWp slanted-roof installation, single-Si, panel, mounted\n",
      "photovoltaic panel production, single-Si wafer\n",
      "photovoltaic cell factory construction\n",
      "electricity production, photovoltaic, 3kWp slanted-roof installation, multi-Si, panel, mounted\n",
      "electricity production, photovoltaic, 3kWp slanted-roof installation, single-Si, panel, mounted\n",
      "electricity production, photovoltaic, 3kWp slanted-roof installation, multi-Si, panel, mounted\n",
      "electricity production, photovoltaic, 3kWp slanted-roof installation, multi-Si, panel, mounted\n",
      "photovoltaic plant construction, 570kWp, multi-Si, on open ground\n",
      "electricity production, photovoltaic, 3kWp slanted-roof installation, single-Si, panel, mounted\n",
      "electricity production, photovoltaic, 3kWp slanted-roof installation, multi-Si, panel, mounted\n",
      "photovoltaic flat-roof installation, 3kWp, multi-Si, on roof\n",
      "electricity production, photovoltaic, 3kWp slanted-roof installation, single-Si, panel, mounted\n",
      "electricity production, photovoltaic, 570kWp open ground installation, multi-Si\n",
      "electricity production, photovoltaic, 570kWp open ground installation, multi-Si\n",
      "photovoltaic panel production, multi-Si wafer\n",
      "electricity production, photovoltaic, 3kWp slanted-roof installation, single-Si, panel, mounted\n",
      "electricity production, photovoltaic, 3kWp slanted-roof installation, multi-Si, panel, mounted\n",
      "electricity production, photovoltaic, 3kWp slanted-roof installation, multi-Si, panel, mounted\n",
      "electricity production, photovoltaic, 570kWp open ground installation, multi-Si\n",
      "electricity production, photovoltaic, 3kWp slanted-roof installation, single-Si, panel, mounted\n",
      "electricity production, photovoltaic, 3kWp slanted-roof installation, multi-Si, panel, mounted\n",
      "electricity production, photovoltaic, 3kWp facade installation, single-Si, panel, mounted\n",
      "market for photovoltaic cell factory\n",
      "photovoltaic slanted-roof installation, 3kWp, multi-Si, laminated, integrated, on roof\n",
      "photovoltaic laminate production, ribbon-Si\n",
      "electricity production, photovoltaic, 3kWp slanted-roof installation, multi-Si, panel, mounted\n",
      "electricity production, photovoltaic, 3kWp flat-roof installation, multi-Si\n",
      "market for single-Si wafer, photovoltaic\n",
      "electricity production, photovoltaic, 3kWp slanted-roof installation, single-Si, panel, mounted\n",
      "photovoltaic facade installation, 3kWp, multi-Si, laminated, integrated, at building\n",
      "electricity production, photovoltaic, 3kWp slanted-roof installation, single-Si, panel, mounted\n",
      "electricity production, photovoltaic, 3kWp slanted-roof installation, single-Si, panel, mounted\n",
      "electricity production, photovoltaic, 3kWp slanted-roof installation, single-Si, panel, mounted\n",
      "photovoltaics, electric installation for 3kWp module, at building\n",
      "market for photovoltaic cell, ribbon-Si\n",
      "electricity production, photovoltaic, 3kWp slanted-roof installation, multi-Si, panel, mounted\n",
      "photovoltaic mounting system production, for facade installation\n",
      "market for photovoltaic slanted-roof installation, 3kWp, ribbon-Si, panel, mounted, on roof\n",
      "market for photovoltaic slanted-roof installation, 3kWp, CdTe, laminated, integrated, on roof\n",
      "market for photovoltaic panel, a-Si\n",
      "electricity production, photovoltaic, 3kWp slanted-roof installation, multi-Si, panel, mounted\n",
      "electricity production, photovoltaic, 570kWp open ground installation, multi-Si\n",
      "electricity production, photovoltaic, 570kWp open ground installation, multi-Si\n",
      "photovoltaic panel production, ribbon-Si\n",
      "electricity production, photovoltaic, 3kWp slanted-roof installation, multi-Si, panel, mounted\n",
      "electricity production, photovoltaic, 3kWp slanted-roof installation, single-Si, panel, mounted\n",
      "photovoltaic facade installation, 3kWp, single-Si, laminated, integrated, at building\n",
      "photovoltaic panel production, CIS\n",
      "electricity production, photovoltaic, 3kWp slanted-roof installation, multi-Si, panel, mounted\n",
      "photovoltaic mounting system production, for facade installation\n",
      "electricity production, photovoltaic, 3kWp slanted-roof installation, multi-Si, panel, mounted\n",
      "market for photovoltaic laminate, ribbon-Si\n",
      "electricity production, photovoltaic, 3kWp slanted-roof installation, multi-Si, panel, mounted\n",
      "electricity production, photovoltaic, 3kWp slanted-roof installation, single-Si, panel, mounted\n",
      "electricity production, photovoltaic, 3kWp facade installation, multi-Si, laminated, integrated\n",
      "electricity production, photovoltaic, 570kWp open ground installation, multi-Si\n",
      "electricity production, photovoltaic, 3kWp slanted-roof installation, multi-Si, panel, mounted\n",
      "electricity production, photovoltaic, 3kWp slanted-roof installation, single-Si, panel, mounted\n",
      "electricity production, photovoltaic, 3kWp slanted-roof installation, single-Si, panel, mounted\n",
      "photovoltaic facade installation, 3kWp, multi-Si, laminated, integrated, at building\n",
      "electricity production, photovoltaic, 3kWp slanted-roof installation, multi-Si, panel, mounted\n"
     ]
    }
   ],
   "source": [
    "solar_pv = ws.get_many(db_2020, \n",
    "    ws.contains(\"name\", \"photovoltaic\")\n",
    ")\n",
    "\n",
    "for ds in solar_pv:\n",
    "    print(ds[\"name\"])"
   ]
  },
  {
   "cell_type": "markdown",
   "id": "41f03dd4-24f7-447a-a566-01d04a2ff963",
   "metadata": {},
   "source": [
    "Let's remove markets"
   ]
  },
  {
   "cell_type": "code",
   "execution_count": 49,
   "id": "078650b0-d7b6-41c4-9fa9-e7c94499fe3e",
   "metadata": {
    "tags": []
   },
   "outputs": [
    {
     "name": "stdout",
     "output_type": "stream",
     "text": [
      "photovoltaic cell factory construction\n",
      "electricity production, photovoltaic, 3kWp slanted-roof installation, multi-Si, panel, mounted\n",
      "photovoltaic flat-roof installation, 3kWp, single-Si, on roof\n",
      "electricity production, photovoltaic, 570kWp open ground installation, multi-Si\n",
      "electricity production, photovoltaic, 3kWp slanted-roof installation, single-Si, panel, mounted\n",
      "electricity production, photovoltaic, 3kWp slanted-roof installation, multi-Si, panel, mounted\n",
      "silicon production, single crystal, Czochralski process, photovoltaics\n",
      "electricity production, photovoltaic, 3kWp slanted-roof installation, multi-Si, panel, mounted\n",
      "photovoltaic laminate production, single-Si wafer\n",
      "electricity production, photovoltaic, 570kWp open ground installation, multi-Si\n",
      "electricity production, photovoltaic, 3kWp slanted-roof installation, single-Si, panel, mounted\n",
      "electricity production, photovoltaic, 3kWp slanted-roof installation, multi-Si, panel, mounted\n",
      "electricity production, photovoltaic, 3kWp slanted-roof installation, multi-Si, panel, mounted\n",
      "electricity production, photovoltaic, 3kWp slanted-roof installation, single-Si, panel, mounted\n",
      "photovoltaic mounting system production, for flat-roof installation\n",
      "electricity production, photovoltaic, 3kWp slanted-roof installation, single-Si, panel, mounted\n",
      "electricity production, photovoltaic, 3kWp slanted-roof installation, multi-Si, panel, mounted\n",
      "photovoltaic mounting system production, for slanted-roof installation\n",
      "electricity production, photovoltaic, 570kWp open ground installation, multi-Si\n",
      "photovoltaic flat-roof installation, 3kWp, single-Si, on roof\n",
      "electricity production, photovoltaic, 3kWp slanted-roof installation, multi-Si, panel, mounted\n",
      "electricity production, photovoltaic, 3kWp slanted-roof installation, single-Si, panel, mounted\n",
      "electricity production, photovoltaic, 3kWp slanted-roof installation, single-Si, panel, mounted\n",
      "photovoltaic laminate production, single-Si wafer\n",
      "electricity production, photovoltaic, 3kWp slanted-roof installation, multi-Si, panel, mounted\n",
      "electricity production, photovoltaic, 3kWp slanted-roof installation, single-Si, panel, mounted\n",
      "electricity production, photovoltaic, 570kWp open ground installation, multi-Si\n",
      "photovoltaic slanted-roof installation, 3kWp, single-Si, laminated, integrated, on roof\n",
      "electricity production, photovoltaic, 3kWp slanted-roof installation, single-Si, panel, mounted\n",
      "electricity production, photovoltaic, 3kWp facade installation, multi-Si, panel, mounted\n",
      "electricity production, photovoltaic, 3kWp slanted-roof installation, multi-Si, panel, mounted\n",
      "photovoltaic slanted-roof installation, 3kWp, CIS, panel, mounted, on roof\n",
      "electricity production, photovoltaic, 570kWp open ground installation, multi-Si\n",
      "electricity production, photovoltaic, 3kWp slanted-roof installation, multi-Si, panel, mounted\n",
      "electricity production, photovoltaic, 570kWp open ground installation, multi-Si\n",
      "electricity production, photovoltaic, 3kWp slanted-roof installation, single-Si, panel, mounted\n",
      "photovoltaic laminate production, CdTe\n",
      "electricity production, photovoltaic, 3kWp slanted-roof installation, single-Si, panel, mounted\n",
      "electricity production, photovoltaic, 3kWp slanted-roof installation, single-Si, panel, mounted\n",
      "electricity production, photovoltaic, 570kWp open ground installation, multi-Si\n",
      "electricity production, photovoltaic, 570kWp open ground installation, multi-Si\n",
      "electricity production, photovoltaic, 3kWp slanted-roof installation, multi-Si, panel, mounted\n",
      "photovoltaic laminate production, ribbon-Si\n",
      "electricity production, photovoltaic, 3kWp slanted-roof installation, multi-Si, panel, mounted\n",
      "photovoltaic laminate production, multi-Si wafer\n",
      "electricity production, photovoltaic, 3kWp slanted-roof installation, multi-Si, panel, mounted\n",
      "electricity production, photovoltaic, 3kWp slanted-roof installation, multi-Si, panel, mounted\n",
      "electricity production, photovoltaic, 3kWp slanted-roof installation, multi-Si, panel, mounted\n",
      "electricity production, photovoltaic, 570kWp open ground installation, multi-Si\n",
      "electricity production, photovoltaic, 570kWp open ground installation, multi-Si\n",
      "electricity production, photovoltaic, 3kWp slanted-roof installation, single-Si, panel, mounted\n",
      "electricity production, photovoltaic, 3kWp flat-roof installation, single-Si\n",
      "electricity production, photovoltaic, 3kWp slanted-roof installation, multi-Si, panel, mounted\n",
      "electricity production, photovoltaic, 570kWp open ground installation, multi-Si\n",
      "single-Si wafer production, photovoltaic\n",
      "electricity production, photovoltaic, 3kWp slanted-roof installation, multi-Si, panel, mounted\n",
      "electricity production, photovoltaic, 3kWp slanted-roof installation, multi-Si, panel, mounted\n",
      "electricity production, photovoltaic, 3kWp slanted-roof installation, single-Si, panel, mounted\n",
      "electricity production, photovoltaic, 570kWp open ground installation, multi-Si\n",
      "electricity production, photovoltaic, 3kWp slanted-roof installation, single-Si, panel, mounted\n",
      "electricity production, photovoltaic, 570kWp open ground installation, multi-Si\n",
      "electricity production, photovoltaic, 3kWp slanted-roof installation, multi-Si, panel, mounted\n",
      "electricity production, photovoltaic, 3kWp slanted-roof installation, CdTe, laminated, integrated\n",
      "electricity production, photovoltaic, 570kWp open ground installation, multi-Si\n",
      "electricity production, photovoltaic, 570kWp open ground installation, multi-Si\n",
      "electricity production, photovoltaic, 3kWp slanted-roof installation, a-Si, panel, mounted\n",
      "electricity production, photovoltaic, 3kWp slanted-roof installation, multi-Si, panel, mounted\n",
      "photovoltaic slanted-roof installation, 3kWp, a-Si, panel, mounted, on roof\n",
      "electricity production, photovoltaic, 3kWp slanted-roof installation, single-Si, panel, mounted\n",
      "electricity production, photovoltaic, 3kWp slanted-roof installation, multi-Si, panel, mounted\n",
      "electricity production, photovoltaic, 3kWp slanted-roof installation, single-Si, panel, mounted\n",
      "electricity production, photovoltaic, 3kWp slanted-roof installation, multi-Si, panel, mounted\n",
      "electricity production, photovoltaic, 570kWp open ground installation, multi-Si\n",
      "photovoltaic facade installation, 3kWp, multi-Si, panel, mounted, at building\n",
      "electricity production, photovoltaic, 3kWp slanted-roof installation, single-Si, panel, mounted\n",
      "electricity production, photovoltaic, 3kWp slanted-roof installation, single-Si, panel, mounted\n",
      "electricity production, photovoltaic, 570kWp open ground installation, multi-Si\n",
      "electricity production, photovoltaic, 3kWp slanted-roof installation, single-Si, panel, mounted\n",
      "electricity production, photovoltaic, 3kWp slanted-roof installation, multi-Si, panel, mounted\n",
      "photovoltaic slanted-roof installation, 3kWp, CIS, panel, mounted, on roof\n",
      "electricity production, photovoltaic, 3kWp slanted-roof installation, single-Si, panel, mounted\n",
      "electricity production, photovoltaic, 3kWp slanted-roof installation, multi-Si, panel, mounted\n",
      "electricity production, photovoltaic, 3kWp slanted-roof installation, ribbon-Si, panel, mounted\n",
      "electricity production, photovoltaic, 3kWp slanted-roof installation, single-Si, panel, mounted\n",
      "electricity production, photovoltaic, 3kWp slanted-roof installation, single-Si, panel, mounted\n",
      "electricity production, photovoltaic, 570kWp open ground installation, multi-Si\n",
      "electricity production, photovoltaic, 570kWp open ground installation, multi-Si\n",
      "electricity production, photovoltaic, 3kWp slanted-roof installation, multi-Si, panel, mounted\n",
      "electricity production, photovoltaic, 3kWp facade installation, multi-Si, laminated, integrated\n",
      "electricity production, photovoltaic, 3kWp slanted-roof installation, single-Si, panel, mounted\n",
      "photovoltaic cell production, ribbon-Si\n",
      "electricity production, photovoltaic, 3kWp slanted-roof installation, multi-Si, panel, mounted\n",
      "electricity production, photovoltaic, 3kWp slanted-roof installation, multi-Si, panel, mounted\n",
      "electricity production, photovoltaic, 3kWp slanted-roof installation, multi-Si, panel, mounted\n",
      "electricity production, photovoltaic, 3kWp slanted-roof installation, multi-Si, panel, mounted\n",
      "electricity production, photovoltaic, 3kWp slanted-roof installation, multi-Si, panel, mounted\n",
      "electricity production, photovoltaic, 3kWp slanted-roof installation, multi-Si, panel, mounted\n",
      "electricity production, photovoltaic, 3kWp slanted-roof installation, single-Si, panel, mounted\n",
      "photovoltaic panel production, ribbon-Si\n",
      "electricity production, photovoltaic, 3kWp facade installation, single-Si, laminated, integrated\n",
      "electricity production, photovoltaic, 3kWp slanted-roof installation, multi-Si, panel, mounted\n",
      "electricity production, photovoltaic, 3kWp slanted-roof installation, single-Si, panel, mounted\n",
      "electricity production, photovoltaic, 3kWp slanted-roof installation, multi-Si, panel, mounted\n",
      "electricity production, photovoltaic, 570kWp open ground installation, multi-Si\n",
      "photovoltaic slanted-roof installation, 3kWp, ribbon-Si, laminated, integrated, on roof\n",
      "electricity production, photovoltaic, 570kWp open ground installation, multi-Si\n",
      "electricity production, photovoltaic, 3kWp slanted-roof installation, multi-Si, panel, mounted\n",
      "photovoltaic cell production, single-Si wafer\n",
      "electricity production, photovoltaic, 3kWp slanted-roof installation, multi-Si, panel, mounted\n",
      "photovoltaic laminate production, CdTe\n",
      "photovoltaic slanted-roof installation, 3kWp, a-Si, laminated, integrated, on roof\n",
      "electricity production, photovoltaic, 3kWp facade installation, multi-Si, panel, mounted\n",
      "electricity production, photovoltaic, 3kWp slanted-roof installation, multi-Si, panel, mounted\n",
      "electricity production, photovoltaic, 3kWp slanted-roof installation, single-Si, panel, mounted\n",
      "electricity production, photovoltaic, 3kWp slanted-roof installation, single-Si, panel, mounted\n",
      "electricity production, photovoltaic, 3kWp slanted-roof installation, multi-Si, panel, mounted\n",
      "electricity production, photovoltaic, 3kWp slanted-roof installation, CIS, panel, mounted\n",
      "electricity production, photovoltaic, 570kWp open ground installation, multi-Si\n",
      "electricity production, photovoltaic, 570kWp open ground installation, multi-Si\n",
      "photovoltaic laminate production, CdTe\n",
      "electricity production, photovoltaic, 3kWp slanted-roof installation, multi-Si, panel, mounted\n",
      "photovoltaic panel production, single-Si wafer\n",
      "electricity production, photovoltaic, 570kWp open ground installation, multi-Si\n",
      "photovoltaic slanted-roof installation, 3kWp, multi-Si, panel, mounted, on roof\n",
      "electricity production, photovoltaic, 3kWp slanted-roof installation, multi-Si, panel, mounted\n",
      "electricity production, photovoltaic, 570kWp open ground installation, multi-Si\n",
      "photovoltaic laminate production, a-Si\n",
      "electricity production, photovoltaic, 3kWp slanted-roof installation, multi-Si, panel, mounted\n",
      "electricity production, photovoltaic, 3kWp slanted-roof installation, single-Si, panel, mounted\n",
      "electricity production, photovoltaic, 3kWp slanted-roof installation, single-Si, panel, mounted\n",
      "photovoltaic panel production, CIS\n",
      "electricity production, photovoltaic, 570kWp open ground installation, multi-Si\n",
      "photovoltaic cell production, ribbon-Si\n",
      "photovoltaic slanted-roof installation, 3kWp, ribbon-Si, panel, mounted, on roof\n",
      "electricity production, photovoltaic, 3kWp slanted-roof installation, multi-Si, panel, mounted\n",
      "electricity production, photovoltaic, 3kWp slanted-roof installation, multi-Si, panel, mounted\n",
      "photovoltaic mounting system production, for flat-roof installation\n",
      "photovoltaic flat-roof installation, 3kWp, multi-Si, on roof\n",
      "electricity production, photovoltaic, 570kWp open ground installation, multi-Si\n",
      "electricity production, photovoltaic, 570kWp open ground installation, multi-Si\n",
      "electricity production, photovoltaic, 3kWp slanted-roof installation, single-Si, panel, mounted\n",
      "electricity production, photovoltaic, 3kWp slanted-roof installation, single-Si, panel, mounted\n",
      "electricity production, photovoltaic, 570kWp open ground installation, multi-Si\n",
      "electricity production, photovoltaic, 3kWp slanted-roof installation, multi-Si, panel, mounted\n",
      "electricity production, photovoltaic, 3kWp slanted-roof installation, multi-Si, laminated, integrated\n",
      "electricity production, photovoltaic, 3kWp slanted-roof installation, single-Si, panel, mounted\n",
      "electricity production, photovoltaic, 3kWp slanted-roof installation, multi-Si, panel, mounted\n",
      "photovoltaic panel production, a-Si\n",
      "electricity production, photovoltaic, 3kWp slanted-roof installation, multi-Si, panel, mounted\n",
      "electricity production, photovoltaic, 3kWp slanted-roof installation, single-Si, laminated, integrated\n",
      "electricity production, photovoltaic, 3kWp slanted-roof installation, single-Si, panel, mounted\n",
      "electricity production, photovoltaic, 3kWp slanted-roof installation, multi-Si, panel, mounted\n",
      "electricity production, photovoltaic, 570kWp open ground installation, multi-Si\n",
      "electricity production, photovoltaic, 3kWp slanted-roof installation, multi-Si, panel, mounted\n",
      "electricity production, photovoltaic, 3kWp slanted-roof installation, single-Si, panel, mounted\n",
      "electricity production, photovoltaic, 3kWp slanted-roof installation, multi-Si, panel, mounted\n",
      "electricity production, photovoltaic, 570kWp open ground installation, multi-Si\n",
      "electricity production, photovoltaic, 3kWp slanted-roof installation, multi-Si, panel, mounted\n",
      "electricity production, photovoltaic, 3kWp slanted-roof installation, single-Si, panel, mounted\n",
      "electricity production, photovoltaic, 3kWp slanted-roof installation, multi-Si, panel, mounted\n",
      "electricity production, photovoltaic, 3kWp slanted-roof installation, multi-Si, panel, mounted\n",
      "electricity production, photovoltaic, 3kWp slanted-roof installation, a-Si, panel, mounted\n",
      "electricity production, photovoltaic, 3kWp slanted-roof installation, multi-Si, panel, mounted\n",
      "electricity production, photovoltaic, 3kWp slanted-roof installation, single-Si, panel, mounted\n",
      "electricity production, photovoltaic, 3kWp slanted-roof installation, single-Si, panel, mounted\n",
      "photovoltaic mounting system production, for slanted-roof installation\n",
      "electricity production, photovoltaic, 570kWp open ground installation, multi-Si\n",
      "electricity production, photovoltaic, 3kWp slanted-roof installation, single-Si, panel, mounted\n",
      "electricity production, photovoltaic, 570kWp open ground installation, multi-Si\n",
      "electricity production, photovoltaic, 3kWp slanted-roof installation, single-Si, panel, mounted\n",
      "electricity production, photovoltaic, 3kWp slanted-roof installation, single-Si, panel, mounted\n",
      "electricity production, photovoltaic, 3kWp slanted-roof installation, multi-Si, panel, mounted\n",
      "electricity production, photovoltaic, 570kWp open ground installation, multi-Si\n",
      "electricity production, photovoltaic, 3kWp slanted-roof installation, multi-Si, panel, mounted\n",
      "electricity production, photovoltaic, 3kWp slanted-roof installation, multi-Si, panel, mounted\n",
      "electricity production, photovoltaic, 3kWp slanted-roof installation, multi-Si, panel, mounted\n",
      "photovoltaic slanted-roof installation, 3kWp, a-Si, panel, mounted, on roof\n",
      "electricity production, photovoltaic, 3kWp slanted-roof installation, single-Si, panel, mounted\n",
      "electricity production, photovoltaic, 3kWp slanted-roof installation, multi-Si, panel, mounted\n",
      "electricity production, photovoltaic, 3kWp slanted-roof installation, multi-Si, panel, mounted\n",
      "electricity production, photovoltaic, 3kWp slanted-roof installation, multi-Si, panel, mounted\n",
      "electricity production, photovoltaic, 3kWp slanted-roof installation, multi-Si, panel, mounted\n",
      "electricity production, photovoltaic, 3kWp slanted-roof installation, single-Si, panel, mounted\n",
      "electricity production, photovoltaic, 3kWp slanted-roof installation, multi-Si, panel, mounted\n",
      "electricity production, photovoltaic, 3kWp slanted-roof installation, single-Si, panel, mounted\n",
      "electricity production, photovoltaic, 3kWp slanted-roof installation, multi-Si, panel, mounted\n",
      "electricity production, photovoltaic, 3kWp slanted-roof installation, ribbon-Si, panel, mounted\n",
      "photovoltaic cell production, multi-Si wafer\n",
      "electricity production, photovoltaic, 570kWp open ground installation, multi-Si\n",
      "single-Si wafer production, photovoltaic\n",
      "photovoltaic slanted-roof installation, 3kWp, ribbon-Si, panel, mounted, on roof\n",
      "electricity production, photovoltaic, 3kWp slanted-roof installation, multi-Si, panel, mounted\n",
      "electricity production, photovoltaic, 570kWp open ground installation, multi-Si\n",
      "electricity production, photovoltaic, 3kWp slanted-roof installation, single-Si, panel, mounted\n",
      "electricity production, photovoltaic, 3kWp slanted-roof installation, ribbon-Si, laminated, integrated\n",
      "electricity production, photovoltaic, 570kWp open ground installation, multi-Si\n",
      "electricity production, photovoltaic, 3kWp slanted-roof installation, multi-Si, panel, mounted\n",
      "electricity production, photovoltaic, 3kWp slanted-roof installation, multi-Si, panel, mounted\n",
      "photovoltaic slanted-roof installation, 3kWp, ribbon-Si, laminated, integrated, on roof\n",
      "electricity production, photovoltaic, 3kWp slanted-roof installation, multi-Si, panel, mounted\n",
      "photovoltaic mounting system production, for 570kWp open ground module\n",
      "electricity production, photovoltaic, 3kWp slanted-roof installation, single-Si, panel, mounted\n",
      "electricity production, photovoltaic, 3kWp slanted-roof installation, multi-Si, panel, mounted\n",
      "photovoltaics, electric installation for 570kWp module, open ground\n",
      "electricity production, photovoltaic, 3kWp slanted-roof installation, multi-Si, panel, mounted\n",
      "electricity production, photovoltaic, 570kWp open ground installation, multi-Si\n",
      "electricity production, photovoltaic, 570kWp open ground installation, multi-Si\n",
      "electricity production, photovoltaic, 3kWp slanted-roof installation, multi-Si, panel, mounted\n",
      "photovoltaic slanted-roof installation, 3kWp, single-Si, panel, mounted, on roof\n",
      "electricity production, photovoltaic, 3kWp slanted-roof installation, multi-Si, panel, mounted\n",
      "electricity production, photovoltaic, 570kWp open ground installation, multi-Si\n",
      "electricity production, photovoltaic, 570kWp open ground installation, multi-Si\n",
      "electricity production, photovoltaic, 3kWp slanted-roof installation, multi-Si, panel, mounted\n",
      "electricity production, photovoltaic, 3kWp slanted-roof installation, multi-Si, panel, mounted\n",
      "electricity production, photovoltaic, 3kWp slanted-roof installation, single-Si, panel, mounted\n",
      "electricity production, photovoltaic, 3kWp slanted-roof installation, single-Si, panel, mounted\n",
      "electricity production, photovoltaic, 3kWp slanted-roof installation, single-Si, laminated, integrated\n",
      "electricity production, photovoltaic, 3kWp slanted-roof installation, multi-Si, panel, mounted\n",
      "electricity production, photovoltaic, 3kWp slanted-roof installation, single-Si, panel, mounted\n",
      "electricity production, photovoltaic, 3kWp slanted-roof installation, single-Si, panel, mounted\n",
      "electricity production, photovoltaic, 3kWp slanted-roof installation, CdTe, laminated, integrated\n",
      "electricity production, photovoltaic, 3kWp slanted-roof installation, single-Si, panel, mounted\n",
      "electricity production, photovoltaic, 3kWp slanted-roof installation, multi-Si, panel, mounted\n",
      "photovoltaic facade installation, 3kWp, multi-Si, panel, mounted, at building\n",
      "electricity production, photovoltaic, 3kWp slanted-roof installation, multi-Si, panel, mounted\n",
      "photovoltaic panel factory construction\n",
      "electricity production, photovoltaic, 3kWp slanted-roof installation, multi-Si, panel, mounted\n",
      "electricity production, photovoltaic, 3kWp slanted-roof installation, single-Si, panel, mounted\n",
      "electricity production, photovoltaic, 570kWp open ground installation, multi-Si\n",
      "electricity production, photovoltaic, 3kWp slanted-roof installation, single-Si, panel, mounted\n",
      "electricity production, photovoltaic, 3kWp slanted-roof installation, multi-Si, panel, mounted\n",
      "electricity production, photovoltaic, 3kWp slanted-roof installation, multi-Si, panel, mounted\n",
      "electricity production, photovoltaic, 3kWp slanted-roof installation, single-Si, panel, mounted\n",
      "electricity production, photovoltaic, 3kWp slanted-roof installation, single-Si, panel, mounted\n",
      "electricity production, photovoltaic, 3kWp slanted-roof installation, single-Si, panel, mounted\n",
      "electricity production, photovoltaic, 3kWp slanted-roof installation, single-Si, panel, mounted\n",
      "electricity production, photovoltaic, 3kWp slanted-roof installation, multi-Si, panel, mounted\n",
      "electricity production, photovoltaic, 3kWp slanted-roof installation, multi-Si, panel, mounted\n",
      "silicon production, single crystal, Czochralski process, photovoltaics\n",
      "photovoltaic slanted-roof installation, 3kWp, multi-Si, panel, mounted, on roof\n",
      "electricity production, photovoltaic, 3kWp slanted-roof installation, multi-Si, panel, mounted\n",
      "electricity production, photovoltaic, 3kWp slanted-roof installation, multi-Si, panel, mounted\n",
      "photovoltaic slanted-roof installation, 3kWp, a-Si, laminated, integrated, on roof\n",
      "electricity production, photovoltaic, 3kWp slanted-roof installation, single-Si, panel, mounted\n",
      "electricity production, photovoltaic, 3kWp slanted-roof installation, multi-Si, laminated, integrated\n",
      "electricity production, photovoltaic, 3kWp slanted-roof installation, multi-Si, panel, mounted\n",
      "electricity production, photovoltaic, 3kWp slanted-roof installation, multi-Si, panel, mounted\n",
      "electricity production, photovoltaic, 3kWp slanted-roof installation, single-Si, panel, mounted\n",
      "electricity production, photovoltaic, 3kWp slanted-roof installation, multi-Si, panel, mounted\n",
      "electricity production, photovoltaic, 3kWp slanted-roof installation, multi-Si, panel, mounted\n",
      "photovoltaic slanted-roof installation, 3kWp, single-Si, panel, mounted, on roof\n",
      "electricity production, photovoltaic, 3kWp slanted-roof installation, multi-Si, panel, mounted\n",
      "photovoltaic module production, building-integrated, for facade installation\n",
      "electricity production, photovoltaic, 3kWp slanted-roof installation, single-Si, panel, mounted\n",
      "electricity production, photovoltaic, 3kWp flat-roof installation, multi-Si\n",
      "electricity production, photovoltaic, 3kWp slanted-roof installation, single-Si, panel, mounted\n",
      "electricity production, photovoltaic, 3kWp slanted-roof installation, multi-Si, panel, mounted\n",
      "electricity production, photovoltaic, 3kWp flat-roof installation, single-Si\n",
      "electricity production, photovoltaic, 3kWp slanted-roof installation, multi-Si, panel, mounted\n",
      "electricity production, photovoltaic, 3kWp slanted-roof installation, CIS, panel, mounted\n",
      "electricity production, photovoltaic, 3kWp slanted-roof installation, single-Si, panel, mounted\n",
      "electricity production, photovoltaic, 3kWp slanted-roof installation, single-Si, panel, mounted\n",
      "electricity production, photovoltaic, 3kWp slanted-roof installation, single-Si, panel, mounted\n",
      "electricity production, photovoltaic, 570kWp open ground installation, multi-Si\n",
      "electricity production, photovoltaic, 570kWp open ground installation, multi-Si\n",
      "electricity production, photovoltaic, 3kWp slanted-roof installation, multi-Si, panel, mounted\n",
      "electricity production, photovoltaic, 3kWp slanted-roof installation, single-Si, panel, mounted\n",
      "photovoltaic facade installation, 3kWp, single-Si, panel, mounted, at building\n",
      "electricity production, photovoltaic, 3kWp slanted-roof installation, single-Si, panel, mounted\n",
      "photovoltaic facade installation, 3kWp, single-Si, laminated, integrated, at building\n",
      "electricity production, photovoltaic, 3kWp slanted-roof installation, multi-Si, panel, mounted\n",
      "electricity production, photovoltaic, 3kWp slanted-roof installation, single-Si, panel, mounted\n",
      "electricity production, photovoltaic, 3kWp slanted-roof installation, multi-Si, panel, mounted\n",
      "electricity production, photovoltaic, 3kWp slanted-roof installation, ribbon-Si, laminated, integrated\n",
      "electricity production, photovoltaic, 3kWp slanted-roof installation, single-Si, panel, mounted\n",
      "electricity production, photovoltaic, 3kWp slanted-roof installation, multi-Si, panel, mounted\n",
      "photovoltaic slanted-roof installation, 3kWp, CdTe, laminated, integrated, on roof\n",
      "photovoltaic laminate production, a-Si\n",
      "electricity production, photovoltaic, 3kWp slanted-roof installation, multi-Si, panel, mounted\n",
      "electricity production, photovoltaic, 3kWp slanted-roof installation, single-Si, panel, mounted, renewable energy produc\n",
      "electricity production, photovoltaic, 3kWp slanted-roof installation, single-Si, panel, mounted\n",
      "electricity production, photovoltaic, 570kWp open ground installation, multi-Si\n",
      "electricity production, photovoltaic, 3kWp slanted-roof installation, multi-Si, panel, mounted\n",
      "electricity production, photovoltaic, 3kWp slanted-roof installation, multi-Si, panel, mounted\n",
      "photovoltaic cell production, single-Si wafer\n",
      "electricity production, photovoltaic, 570kWp open ground installation, multi-Si\n",
      "electricity production, photovoltaic, 570kWp open ground installation, multi-Si\n",
      "electricity production, photovoltaic, 3kWp slanted-roof installation, single-Si, panel, mounted\n",
      "electricity production, photovoltaic, 3kWp slanted-roof installation, multi-Si, panel, mounted, renewable energy product\n",
      "photovoltaic module production, building-integrated, for slanted-roof installation\n",
      "photovoltaic laminate production, CdTe\n",
      "electricity production, photovoltaic, 3kWp facade installation, single-Si, panel, mounted\n",
      "electricity production, photovoltaic, 3kWp slanted-roof installation, multi-Si, panel, mounted\n",
      "electricity production, photovoltaic, 3kWp slanted-roof installation, single-Si, panel, mounted\n",
      "electricity, low voltage, photovoltaic, import from Germany\n",
      "photovoltaic slanted-roof installation, 3kWp, single-Si, laminated, integrated, on roof\n",
      "electricity production, photovoltaic, 3kWp slanted-roof installation, multi-Si, panel, mounted\n",
      "electricity production, photovoltaic, 3kWp slanted-roof installation, single-Si, panel, mounted\n",
      "electricity production, photovoltaic, 570kWp open ground installation, multi-Si\n",
      "electricity production, photovoltaic, 570kWp open ground installation, multi-Si\n",
      "photovoltaic laminate production, multi-Si wafer\n",
      "electricity production, photovoltaic, 3kWp slanted-roof installation, multi-Si, panel, mounted\n",
      "electricity production, photovoltaic, 3kWp slanted-roof installation, multi-Si, panel, mounted\n",
      "electricity production, photovoltaic, 3kWp slanted-roof installation, single-Si, panel, mounted\n",
      "electricity production, photovoltaic, 3kWp slanted-roof installation, a-Si, laminated, integrated\n",
      "electricity production, photovoltaic, 3kWp slanted-roof installation, single-Si, panel, mounted\n",
      "electricity production, photovoltaic, 570kWp open ground installation, multi-Si\n",
      "photovoltaic laminate production, CIS\n",
      "electricity production, photovoltaic, 570kWp open ground installation, multi-Si\n",
      "photovoltaic cell production, multi-Si wafer\n",
      "electricity production, photovoltaic, 3kWp slanted-roof installation, multi-Si, panel, mounted\n",
      "electricity production, photovoltaic, 3kWp slanted-roof installation, multi-Si, panel, mounted\n",
      "electricity production, photovoltaic, 3kWp slanted-roof installation, single-Si, panel, mounted\n",
      "electricity production, photovoltaic, 3kWp slanted-roof installation, single-Si, panel, mounted\n",
      "electricity production, photovoltaic, 3kWp slanted-roof installation, single-Si, panel, mounted\n",
      "electricity production, photovoltaic, 3kWp slanted-roof installation, single-Si, panel, mounted\n",
      "electricity production, photovoltaic, 3kWp slanted-roof installation, multi-Si, panel, mounted\n",
      "electricity production, photovoltaic, 3kWp slanted-roof installation, multi-Si, panel, mounted\n",
      "electricity production, photovoltaic, 3kWp slanted-roof installation, multi-Si, panel, mounted\n",
      "photovoltaic module production, building-integrated, for facade installation\n",
      "photovoltaic slanted-roof installation, 3kWp, CdTe, laminated, integrated, on roof\n",
      "electricity production, photovoltaic, 570kWp open ground installation, multi-Si\n",
      "photovoltaic facade installation, 3kWp, single-Si, panel, mounted, at building\n",
      "electricity production, photovoltaic, 570kWp open ground installation, multi-Si\n",
      "electricity production, photovoltaic, 570kWp open ground installation, multi-Si\n",
      "electricity production, photovoltaic, 3kWp slanted-roof installation, single-Si, panel, mounted\n",
      "electricity production, photovoltaic, 3kWp slanted-roof installation, a-Si, laminated, integrated\n",
      "photovoltaic panel production, a-Si\n",
      "electricity production, photovoltaic, 3kWp slanted-roof installation, multi-Si, panel, mounted\n",
      "electricity production, photovoltaic, 3kWp slanted-roof installation, multi-Si, panel, mounted\n",
      "photovoltaic panel production, multi-Si wafer\n",
      "photovoltaic slanted-roof installation, 3kWp, multi-Si, laminated, integrated, on roof\n",
      "electricity production, photovoltaic, 3kWp slanted-roof installation, multi-Si, panel, mounted\n",
      "electricity production, photovoltaic, 3kWp slanted-roof installation, single-Si, panel, mounted\n",
      "photovoltaic module production, building-integrated, for slanted-roof installation\n",
      "electricity production, photovoltaic, 3kWp slanted-roof installation, multi-Si, panel, mounted\n",
      "electricity production, photovoltaic, 3kWp facade installation, single-Si, laminated, integrated\n",
      "electricity production, photovoltaic, 3kWp slanted-roof installation, multi-Si, panel, mounted\n",
      "electricity production, photovoltaic, 570kWp open ground installation, multi-Si\n",
      "electricity production, photovoltaic, 570kWp open ground installation, multi-Si\n",
      "electricity production, photovoltaic, 570kWp open ground installation, multi-Si\n",
      "electricity production, photovoltaic, 3kWp slanted-roof installation, multi-Si, panel, mounted\n",
      "photovoltaics, electric installation for 3kWp module, at building\n",
      "photovoltaic laminate production, CIS\n",
      "electricity production, photovoltaic, 570kWp open ground installation, multi-Si\n",
      "electricity production, photovoltaic, 3kWp slanted-roof installation, single-Si, panel, mounted\n",
      "photovoltaic panel production, single-Si wafer\n",
      "photovoltaic cell factory construction\n",
      "electricity production, photovoltaic, 3kWp slanted-roof installation, multi-Si, panel, mounted\n",
      "electricity production, photovoltaic, 3kWp slanted-roof installation, single-Si, panel, mounted\n",
      "electricity production, photovoltaic, 3kWp slanted-roof installation, multi-Si, panel, mounted\n",
      "electricity production, photovoltaic, 3kWp slanted-roof installation, multi-Si, panel, mounted\n",
      "photovoltaic plant construction, 570kWp, multi-Si, on open ground\n",
      "electricity production, photovoltaic, 3kWp slanted-roof installation, single-Si, panel, mounted\n",
      "electricity production, photovoltaic, 3kWp slanted-roof installation, multi-Si, panel, mounted\n",
      "photovoltaic flat-roof installation, 3kWp, multi-Si, on roof\n",
      "electricity production, photovoltaic, 3kWp slanted-roof installation, single-Si, panel, mounted\n",
      "electricity production, photovoltaic, 570kWp open ground installation, multi-Si\n",
      "electricity production, photovoltaic, 570kWp open ground installation, multi-Si\n",
      "photovoltaic panel production, multi-Si wafer\n",
      "electricity production, photovoltaic, 3kWp slanted-roof installation, single-Si, panel, mounted\n",
      "electricity production, photovoltaic, 3kWp slanted-roof installation, multi-Si, panel, mounted\n",
      "electricity production, photovoltaic, 3kWp slanted-roof installation, multi-Si, panel, mounted\n",
      "electricity production, photovoltaic, 570kWp open ground installation, multi-Si\n",
      "electricity production, photovoltaic, 3kWp slanted-roof installation, single-Si, panel, mounted\n",
      "electricity production, photovoltaic, 3kWp slanted-roof installation, multi-Si, panel, mounted\n",
      "electricity production, photovoltaic, 3kWp facade installation, single-Si, panel, mounted\n",
      "photovoltaic slanted-roof installation, 3kWp, multi-Si, laminated, integrated, on roof\n",
      "photovoltaic laminate production, ribbon-Si\n",
      "electricity production, photovoltaic, 3kWp slanted-roof installation, multi-Si, panel, mounted\n",
      "electricity production, photovoltaic, 3kWp flat-roof installation, multi-Si\n",
      "electricity production, photovoltaic, 3kWp slanted-roof installation, single-Si, panel, mounted\n",
      "photovoltaic facade installation, 3kWp, multi-Si, laminated, integrated, at building\n",
      "electricity production, photovoltaic, 3kWp slanted-roof installation, single-Si, panel, mounted\n",
      "electricity production, photovoltaic, 3kWp slanted-roof installation, single-Si, panel, mounted\n",
      "electricity production, photovoltaic, 3kWp slanted-roof installation, single-Si, panel, mounted\n",
      "photovoltaics, electric installation for 3kWp module, at building\n",
      "electricity production, photovoltaic, 3kWp slanted-roof installation, multi-Si, panel, mounted\n",
      "photovoltaic mounting system production, for facade installation\n",
      "electricity production, photovoltaic, 3kWp slanted-roof installation, multi-Si, panel, mounted\n",
      "electricity production, photovoltaic, 570kWp open ground installation, multi-Si\n",
      "electricity production, photovoltaic, 570kWp open ground installation, multi-Si\n",
      "photovoltaic panel production, ribbon-Si\n",
      "electricity production, photovoltaic, 3kWp slanted-roof installation, multi-Si, panel, mounted\n",
      "electricity production, photovoltaic, 3kWp slanted-roof installation, single-Si, panel, mounted\n",
      "photovoltaic facade installation, 3kWp, single-Si, laminated, integrated, at building\n",
      "photovoltaic panel production, CIS\n",
      "electricity production, photovoltaic, 3kWp slanted-roof installation, multi-Si, panel, mounted\n",
      "photovoltaic mounting system production, for facade installation\n",
      "electricity production, photovoltaic, 3kWp slanted-roof installation, multi-Si, panel, mounted\n",
      "electricity production, photovoltaic, 3kWp slanted-roof installation, multi-Si, panel, mounted\n",
      "electricity production, photovoltaic, 3kWp slanted-roof installation, single-Si, panel, mounted\n",
      "electricity production, photovoltaic, 3kWp facade installation, multi-Si, laminated, integrated\n",
      "electricity production, photovoltaic, 570kWp open ground installation, multi-Si\n",
      "electricity production, photovoltaic, 3kWp slanted-roof installation, multi-Si, panel, mounted\n",
      "electricity production, photovoltaic, 3kWp slanted-roof installation, single-Si, panel, mounted\n",
      "electricity production, photovoltaic, 3kWp slanted-roof installation, single-Si, panel, mounted\n",
      "photovoltaic facade installation, 3kWp, multi-Si, laminated, integrated, at building\n",
      "electricity production, photovoltaic, 3kWp slanted-roof installation, multi-Si, panel, mounted\n"
     ]
    }
   ],
   "source": [
    "solar_pv = ws.get_many(db_2020, \n",
    "    ws.contains(\"name\", \"photovoltaic\"),\n",
    "    ws.exclude(\n",
    "        ws.contains(\"name\", \"market for\"),\n",
    "    )\n",
    ")\n",
    "\n",
    "for ds in solar_pv:\n",
    "    print(ds[\"name\"])"
   ]
  },
  {
   "cell_type": "markdown",
   "id": "698cc4ad-481c-4c47-87de-c474b42984d7",
   "metadata": {},
   "source": [
    "Let's also remove electricity producing datasets"
   ]
  },
  {
   "cell_type": "code",
   "execution_count": 50,
   "id": "4efc94f9-e6ac-4f05-b0c3-6f6f3d2e82b0",
   "metadata": {
    "tags": []
   },
   "outputs": [
    {
     "name": "stdout",
     "output_type": "stream",
     "text": [
      "photovoltaic flat-roof installation, 3kWp, single-Si, on roof CH\n",
      "photovoltaic flat-roof installation, 3kWp, single-Si, on roof RoW\n",
      "photovoltaic slanted-roof installation, 3kWp, single-Si, laminated, integrated, on roof RoW\n",
      "photovoltaic slanted-roof installation, 3kWp, CIS, panel, mounted, on roof CH\n",
      "photovoltaic slanted-roof installation, 3kWp, a-Si, panel, mounted, on roof RoW\n",
      "photovoltaic facade installation, 3kWp, multi-Si, panel, mounted, at building CH\n",
      "photovoltaic slanted-roof installation, 3kWp, CIS, panel, mounted, on roof RoW\n",
      "photovoltaic slanted-roof installation, 3kWp, ribbon-Si, laminated, integrated, on roof CH\n",
      "photovoltaic slanted-roof installation, 3kWp, a-Si, laminated, integrated, on roof RoW\n",
      "photovoltaic slanted-roof installation, 3kWp, multi-Si, panel, mounted, on roof CH\n",
      "photovoltaic slanted-roof installation, 3kWp, ribbon-Si, panel, mounted, on roof CH\n",
      "photovoltaic flat-roof installation, 3kWp, multi-Si, on roof RoW\n",
      "photovoltaic slanted-roof installation, 3kWp, a-Si, panel, mounted, on roof CH\n",
      "photovoltaic slanted-roof installation, 3kWp, ribbon-Si, panel, mounted, on roof RoW\n",
      "photovoltaic slanted-roof installation, 3kWp, ribbon-Si, laminated, integrated, on roof RoW\n",
      "photovoltaic slanted-roof installation, 3kWp, single-Si, panel, mounted, on roof CH\n",
      "photovoltaic facade installation, 3kWp, multi-Si, panel, mounted, at building RoW\n",
      "photovoltaic slanted-roof installation, 3kWp, multi-Si, panel, mounted, on roof RoW\n",
      "photovoltaic slanted-roof installation, 3kWp, a-Si, laminated, integrated, on roof CH\n",
      "photovoltaic slanted-roof installation, 3kWp, single-Si, panel, mounted, on roof RoW\n",
      "photovoltaic facade installation, 3kWp, single-Si, panel, mounted, at building RoW\n",
      "photovoltaic facade installation, 3kWp, single-Si, laminated, integrated, at building CH\n",
      "photovoltaic slanted-roof installation, 3kWp, CdTe, laminated, integrated, on roof RoW\n",
      "photovoltaic slanted-roof installation, 3kWp, single-Si, laminated, integrated, on roof CH\n",
      "photovoltaic slanted-roof installation, 3kWp, CdTe, laminated, integrated, on roof CH\n",
      "photovoltaic facade installation, 3kWp, single-Si, panel, mounted, at building CH\n",
      "photovoltaic slanted-roof installation, 3kWp, multi-Si, laminated, integrated, on roof CH\n",
      "photovoltaic plant construction, 570kWp, multi-Si, on open ground GLO\n",
      "photovoltaic flat-roof installation, 3kWp, multi-Si, on roof CH\n",
      "photovoltaic slanted-roof installation, 3kWp, multi-Si, laminated, integrated, on roof RoW\n",
      "photovoltaic facade installation, 3kWp, multi-Si, laminated, integrated, at building RoW\n",
      "photovoltaic facade installation, 3kWp, single-Si, laminated, integrated, at building RoW\n",
      "photovoltaic facade installation, 3kWp, multi-Si, laminated, integrated, at building CH\n"
     ]
    }
   ],
   "source": [
    "pv_filter = [\n",
    "    ws.contains(\"name\", \"photovoltaic\"),\n",
    "    ws.either(\n",
    "        ws.contains(\"name\", \"installation\"),\n",
    "        ws.contains(\"name\", \"construction\"),\n",
    "    ),\n",
    "    ws.exclude(ws.contains(\"name\", \"market for\"),),\n",
    "    ws.exclude(ws.contains(\"name\", \"electricity\")),\n",
    "    ws.exclude(ws.contains(\"name\", \"factory\")),\n",
    "    ws.exclude(ws.contains(\"name\", \"module\")),\n",
    "    ws.equals(\"unit\", \"unit\"),\n",
    "]\n",
    "solar_pv = ws.get_many(\n",
    "    db_2020, \n",
    "    *pv_filter\n",
    ")\n",
    "\n",
    "for ds in solar_pv:\n",
    "    print(ds[\"name\"], ds[\"location\"])"
   ]
  },
  {
   "cell_type": "markdown",
   "id": "21ab8097",
   "metadata": {},
   "source": [
    "### 5. Filtering Data:\n",
    "List only European datasets"
   ]
  },
  {
   "cell_type": "code",
   "execution_count": 51,
   "id": "3bf2a361",
   "metadata": {
    "tags": []
   },
   "outputs": [],
   "source": [
    "from constructive_geometries import geomatcher"
   ]
  },
  {
   "cell_type": "code",
   "execution_count": 52,
   "id": "1433e05d-98cf-4e3b-93a7-ccd4643233c3",
   "metadata": {
    "tags": []
   },
   "outputs": [],
   "source": [
    "geo = geomatcher.Geomatcher()"
   ]
  },
  {
   "cell_type": "code",
   "execution_count": 53,
   "id": "cbbe3c53-455c-424c-bb1c-1e44fe4758af",
   "metadata": {
    "tags": []
   },
   "outputs": [],
   "source": [
    "european_countries = geo.contained(\"RER\")"
   ]
  },
  {
   "cell_type": "code",
   "execution_count": 54,
   "id": "65dfdc7d-4a8b-4c11-b009-698cbb730e95",
   "metadata": {
    "tags": []
   },
   "outputs": [
    {
     "name": "stdout",
     "output_type": "stream",
     "text": [
      "photovoltaic flat-roof installation, 3kWp, single-Si, on roof CH\n",
      "photovoltaic slanted-roof installation, 3kWp, CIS, panel, mounted, on roof CH\n",
      "photovoltaic facade installation, 3kWp, multi-Si, panel, mounted, at building CH\n",
      "photovoltaic slanted-roof installation, 3kWp, ribbon-Si, laminated, integrated, on roof CH\n",
      "photovoltaic slanted-roof installation, 3kWp, multi-Si, panel, mounted, on roof CH\n",
      "photovoltaic slanted-roof installation, 3kWp, ribbon-Si, panel, mounted, on roof CH\n",
      "photovoltaic slanted-roof installation, 3kWp, a-Si, panel, mounted, on roof CH\n",
      "photovoltaic slanted-roof installation, 3kWp, single-Si, panel, mounted, on roof CH\n",
      "photovoltaic slanted-roof installation, 3kWp, a-Si, laminated, integrated, on roof CH\n",
      "photovoltaic facade installation, 3kWp, single-Si, laminated, integrated, at building CH\n",
      "photovoltaic slanted-roof installation, 3kWp, single-Si, laminated, integrated, on roof CH\n",
      "photovoltaic slanted-roof installation, 3kWp, CdTe, laminated, integrated, on roof CH\n",
      "photovoltaic facade installation, 3kWp, single-Si, panel, mounted, at building CH\n",
      "photovoltaic slanted-roof installation, 3kWp, multi-Si, laminated, integrated, on roof CH\n",
      "photovoltaic flat-roof installation, 3kWp, multi-Si, on roof CH\n",
      "photovoltaic facade installation, 3kWp, multi-Si, laminated, integrated, at building CH\n"
     ]
    }
   ],
   "source": [
    "pv_filter.append(\n",
    "    ws.either(*[\n",
    "        ws.equals(\"location\", loc) for loc in european_countries\n",
    "    ])\n",
    ")\n",
    "\n",
    "for ds in ws.get_many(\n",
    "    db_2020,\n",
    "    *pv_filter\n",
    "):\n",
    "    print(ds[\"name\"], ds[\"location\"])"
   ]
  },
  {
   "cell_type": "markdown",
   "id": "e12912c5-2e81-4b84-a492-0219563eab02",
   "metadata": {},
   "source": [
    "### Modify Module Efficiency:\n",
    "\n",
    "Increase the efficiency of solar PV modules by a certain amount based on future predictions.\n",
    "We can do so by reducing the area of panels needed per kilowatt-peak installation.\n",
    "\n",
    "Here are some efficiency projections we can use:\n",
    "\t\t\t\t\t\t\t\n",
    "| Synthesis           |           |      |          |           |          |      |      |      |\n",
    "|---------------------|-----------|------|----------|-----------|----------|------|------|------|\n",
    "| % module efficiency | ribbon-Si | a-Si | micro-Si | single-Si | multi-Si | CIGS | CIS  | CdTe |\n",
    "| 2005                |           |      |          |           |          |      |      |      |\n",
    "| 2010                | 9         | 9.5  | 10       | 15.1      | 14       | 11   | 11   | 10   |\n",
    "| 2020                | 12        | 12.5 | 11.9     | 17.9      | 16.8     | 14   | 14   | 16.8 |\n",
    "| 2050                | 13.5      | 14.2 | 12.5     | 26.7      | 24.4     | 23.4 | 23.4 | 21   |4\t21\n"
   ]
  },
  {
   "cell_type": "code",
   "execution_count": 55,
   "id": "6de794d6-f46c-4917-b83a-4ae6c071f1f7",
   "metadata": {
    "tags": []
   },
   "outputs": [],
   "source": [
    "import xarray as xr\n",
    "# let's store this as a dict\n",
    "# Creating the dictionary from the provided data\n",
    "\n",
    "efficiency_data = {\n",
    "    \"ribbon-Si\": {\n",
    "        2010: 9,\n",
    "        2020: 12,\n",
    "        2050: 13.5\n",
    "    },\n",
    "    \"a-Si\": {\n",
    "        2010: 9.5,\n",
    "        2020: 12.5,\n",
    "        2050: 14.2\n",
    "    },\n",
    "    \"micro-Si\": {\n",
    "        2010: 10,\n",
    "        2020: 11.9,\n",
    "        2050: 12.5\n",
    "    },\n",
    "    \"single-Si\": {\n",
    "        2010: 15.1,\n",
    "        2020: 17.9,\n",
    "        2050: 26.7\n",
    "    },\n",
    "    \"multi-Si\": {\n",
    "        2010: 14,\n",
    "        2020: 16.8,\n",
    "        2050: 24.4\n",
    "    },\n",
    "    \"CIGS\": {\n",
    "        2010: 11,\n",
    "        2020: 14,\n",
    "        2050: 23.4\n",
    "    },\n",
    "    \"CIS\": {\n",
    "        2010: 11,\n",
    "        2020: 14,\n",
    "        2050: 23.4\n",
    "    },\n",
    "    \"CdTe\": {\n",
    "        2010: 10,\n",
    "        2020: 16.8,\n",
    "        2050: 21\n",
    "    }\n",
    "}\n",
    "\n",
    "# Adjusting the structure of the dictionary to fit into a DataArray\n",
    "data_values = []\n",
    "technologies = list(efficiency_data.keys())\n",
    "years = sorted(list(efficiency_data[technologies[0]].keys()))\n",
    "\n",
    "for technology in technologies:\n",
    "    data_values.append([efficiency_data[technology][year] for year in years])\n",
    "\n",
    "# Creating the xarray DataArray\n",
    "efficiency_da = xr.DataArray(\n",
    "    data_values,\n",
    "    coords=[technologies, years],\n",
    "    dims=[\"technology\", \"year\"]\n",
    ")\n"
   ]
  },
  {
   "cell_type": "code",
   "execution_count": 56,
   "id": "8793a18a-bfba-40a8-95f2-5cd45ff81f2e",
   "metadata": {
    "tags": []
   },
   "outputs": [
    {
     "data": {
      "text/html": [
       "<div><svg style=\"position: absolute; width: 0; height: 0; overflow: hidden\">\n",
       "<defs>\n",
       "<symbol id=\"icon-database\" viewBox=\"0 0 32 32\">\n",
       "<path d=\"M16 0c-8.837 0-16 2.239-16 5v4c0 2.761 7.163 5 16 5s16-2.239 16-5v-4c0-2.761-7.163-5-16-5z\"></path>\n",
       "<path d=\"M16 17c-8.837 0-16-2.239-16-5v6c0 2.761 7.163 5 16 5s16-2.239 16-5v-6c0 2.761-7.163 5-16 5z\"></path>\n",
       "<path d=\"M16 26c-8.837 0-16-2.239-16-5v6c0 2.761 7.163 5 16 5s16-2.239 16-5v-6c0 2.761-7.163 5-16 5z\"></path>\n",
       "</symbol>\n",
       "<symbol id=\"icon-file-text2\" viewBox=\"0 0 32 32\">\n",
       "<path d=\"M28.681 7.159c-0.694-0.947-1.662-2.053-2.724-3.116s-2.169-2.030-3.116-2.724c-1.612-1.182-2.393-1.319-2.841-1.319h-15.5c-1.378 0-2.5 1.121-2.5 2.5v27c0 1.378 1.122 2.5 2.5 2.5h23c1.378 0 2.5-1.122 2.5-2.5v-19.5c0-0.448-0.137-1.23-1.319-2.841zM24.543 5.457c0.959 0.959 1.712 1.825 2.268 2.543h-4.811v-4.811c0.718 0.556 1.584 1.309 2.543 2.268zM28 29.5c0 0.271-0.229 0.5-0.5 0.5h-23c-0.271 0-0.5-0.229-0.5-0.5v-27c0-0.271 0.229-0.5 0.5-0.5 0 0 15.499-0 15.5 0v7c0 0.552 0.448 1 1 1h7v19.5z\"></path>\n",
       "<path d=\"M23 26h-14c-0.552 0-1-0.448-1-1s0.448-1 1-1h14c0.552 0 1 0.448 1 1s-0.448 1-1 1z\"></path>\n",
       "<path d=\"M23 22h-14c-0.552 0-1-0.448-1-1s0.448-1 1-1h14c0.552 0 1 0.448 1 1s-0.448 1-1 1z\"></path>\n",
       "<path d=\"M23 18h-14c-0.552 0-1-0.448-1-1s0.448-1 1-1h14c0.552 0 1 0.448 1 1s-0.448 1-1 1z\"></path>\n",
       "</symbol>\n",
       "</defs>\n",
       "</svg>\n",
       "<style>/* CSS stylesheet for displaying xarray objects in jupyterlab.\n",
       " *\n",
       " */\n",
       "\n",
       ":root {\n",
       "  --xr-font-color0: var(--jp-content-font-color0, rgba(0, 0, 0, 1));\n",
       "  --xr-font-color2: var(--jp-content-font-color2, rgba(0, 0, 0, 0.54));\n",
       "  --xr-font-color3: var(--jp-content-font-color3, rgba(0, 0, 0, 0.38));\n",
       "  --xr-border-color: var(--jp-border-color2, #e0e0e0);\n",
       "  --xr-disabled-color: var(--jp-layout-color3, #bdbdbd);\n",
       "  --xr-background-color: var(--jp-layout-color0, white);\n",
       "  --xr-background-color-row-even: var(--jp-layout-color1, white);\n",
       "  --xr-background-color-row-odd: var(--jp-layout-color2, #eeeeee);\n",
       "}\n",
       "\n",
       "html[theme=dark],\n",
       "body[data-theme=dark],\n",
       "body.vscode-dark {\n",
       "  --xr-font-color0: rgba(255, 255, 255, 1);\n",
       "  --xr-font-color2: rgba(255, 255, 255, 0.54);\n",
       "  --xr-font-color3: rgba(255, 255, 255, 0.38);\n",
       "  --xr-border-color: #1F1F1F;\n",
       "  --xr-disabled-color: #515151;\n",
       "  --xr-background-color: #111111;\n",
       "  --xr-background-color-row-even: #111111;\n",
       "  --xr-background-color-row-odd: #313131;\n",
       "}\n",
       "\n",
       ".xr-wrap {\n",
       "  display: block !important;\n",
       "  min-width: 300px;\n",
       "  max-width: 700px;\n",
       "}\n",
       "\n",
       ".xr-text-repr-fallback {\n",
       "  /* fallback to plain text repr when CSS is not injected (untrusted notebook) */\n",
       "  display: none;\n",
       "}\n",
       "\n",
       ".xr-header {\n",
       "  padding-top: 6px;\n",
       "  padding-bottom: 6px;\n",
       "  margin-bottom: 4px;\n",
       "  border-bottom: solid 1px var(--xr-border-color);\n",
       "}\n",
       "\n",
       ".xr-header > div,\n",
       ".xr-header > ul {\n",
       "  display: inline;\n",
       "  margin-top: 0;\n",
       "  margin-bottom: 0;\n",
       "}\n",
       "\n",
       ".xr-obj-type,\n",
       ".xr-array-name {\n",
       "  margin-left: 2px;\n",
       "  margin-right: 10px;\n",
       "}\n",
       "\n",
       ".xr-obj-type {\n",
       "  color: var(--xr-font-color2);\n",
       "}\n",
       "\n",
       ".xr-sections {\n",
       "  padding-left: 0 !important;\n",
       "  display: grid;\n",
       "  grid-template-columns: 150px auto auto 1fr 20px 20px;\n",
       "}\n",
       "\n",
       ".xr-section-item {\n",
       "  display: contents;\n",
       "}\n",
       "\n",
       ".xr-section-item input {\n",
       "  display: none;\n",
       "}\n",
       "\n",
       ".xr-section-item input + label {\n",
       "  color: var(--xr-disabled-color);\n",
       "}\n",
       "\n",
       ".xr-section-item input:enabled + label {\n",
       "  cursor: pointer;\n",
       "  color: var(--xr-font-color2);\n",
       "}\n",
       "\n",
       ".xr-section-item input:enabled + label:hover {\n",
       "  color: var(--xr-font-color0);\n",
       "}\n",
       "\n",
       ".xr-section-summary {\n",
       "  grid-column: 1;\n",
       "  color: var(--xr-font-color2);\n",
       "  font-weight: 500;\n",
       "}\n",
       "\n",
       ".xr-section-summary > span {\n",
       "  display: inline-block;\n",
       "  padding-left: 0.5em;\n",
       "}\n",
       "\n",
       ".xr-section-summary-in:disabled + label {\n",
       "  color: var(--xr-font-color2);\n",
       "}\n",
       "\n",
       ".xr-section-summary-in + label:before {\n",
       "  display: inline-block;\n",
       "  content: '►';\n",
       "  font-size: 11px;\n",
       "  width: 15px;\n",
       "  text-align: center;\n",
       "}\n",
       "\n",
       ".xr-section-summary-in:disabled + label:before {\n",
       "  color: var(--xr-disabled-color);\n",
       "}\n",
       "\n",
       ".xr-section-summary-in:checked + label:before {\n",
       "  content: '▼';\n",
       "}\n",
       "\n",
       ".xr-section-summary-in:checked + label > span {\n",
       "  display: none;\n",
       "}\n",
       "\n",
       ".xr-section-summary,\n",
       ".xr-section-inline-details {\n",
       "  padding-top: 4px;\n",
       "  padding-bottom: 4px;\n",
       "}\n",
       "\n",
       ".xr-section-inline-details {\n",
       "  grid-column: 2 / -1;\n",
       "}\n",
       "\n",
       ".xr-section-details {\n",
       "  display: none;\n",
       "  grid-column: 1 / -1;\n",
       "  margin-bottom: 5px;\n",
       "}\n",
       "\n",
       ".xr-section-summary-in:checked ~ .xr-section-details {\n",
       "  display: contents;\n",
       "}\n",
       "\n",
       ".xr-array-wrap {\n",
       "  grid-column: 1 / -1;\n",
       "  display: grid;\n",
       "  grid-template-columns: 20px auto;\n",
       "}\n",
       "\n",
       ".xr-array-wrap > label {\n",
       "  grid-column: 1;\n",
       "  vertical-align: top;\n",
       "}\n",
       "\n",
       ".xr-preview {\n",
       "  color: var(--xr-font-color3);\n",
       "}\n",
       "\n",
       ".xr-array-preview,\n",
       ".xr-array-data {\n",
       "  padding: 0 5px !important;\n",
       "  grid-column: 2;\n",
       "}\n",
       "\n",
       ".xr-array-data,\n",
       ".xr-array-in:checked ~ .xr-array-preview {\n",
       "  display: none;\n",
       "}\n",
       "\n",
       ".xr-array-in:checked ~ .xr-array-data,\n",
       ".xr-array-preview {\n",
       "  display: inline-block;\n",
       "}\n",
       "\n",
       ".xr-dim-list {\n",
       "  display: inline-block !important;\n",
       "  list-style: none;\n",
       "  padding: 0 !important;\n",
       "  margin: 0;\n",
       "}\n",
       "\n",
       ".xr-dim-list li {\n",
       "  display: inline-block;\n",
       "  padding: 0;\n",
       "  margin: 0;\n",
       "}\n",
       "\n",
       ".xr-dim-list:before {\n",
       "  content: '(';\n",
       "}\n",
       "\n",
       ".xr-dim-list:after {\n",
       "  content: ')';\n",
       "}\n",
       "\n",
       ".xr-dim-list li:not(:last-child):after {\n",
       "  content: ',';\n",
       "  padding-right: 5px;\n",
       "}\n",
       "\n",
       ".xr-has-index {\n",
       "  font-weight: bold;\n",
       "}\n",
       "\n",
       ".xr-var-list,\n",
       ".xr-var-item {\n",
       "  display: contents;\n",
       "}\n",
       "\n",
       ".xr-var-item > div,\n",
       ".xr-var-item label,\n",
       ".xr-var-item > .xr-var-name span {\n",
       "  background-color: var(--xr-background-color-row-even);\n",
       "  margin-bottom: 0;\n",
       "}\n",
       "\n",
       ".xr-var-item > .xr-var-name:hover span {\n",
       "  padding-right: 5px;\n",
       "}\n",
       "\n",
       ".xr-var-list > li:nth-child(odd) > div,\n",
       ".xr-var-list > li:nth-child(odd) > label,\n",
       ".xr-var-list > li:nth-child(odd) > .xr-var-name span {\n",
       "  background-color: var(--xr-background-color-row-odd);\n",
       "}\n",
       "\n",
       ".xr-var-name {\n",
       "  grid-column: 1;\n",
       "}\n",
       "\n",
       ".xr-var-dims {\n",
       "  grid-column: 2;\n",
       "}\n",
       "\n",
       ".xr-var-dtype {\n",
       "  grid-column: 3;\n",
       "  text-align: right;\n",
       "  color: var(--xr-font-color2);\n",
       "}\n",
       "\n",
       ".xr-var-preview {\n",
       "  grid-column: 4;\n",
       "}\n",
       "\n",
       ".xr-index-preview {\n",
       "  grid-column: 2 / 5;\n",
       "  color: var(--xr-font-color2);\n",
       "}\n",
       "\n",
       ".xr-var-name,\n",
       ".xr-var-dims,\n",
       ".xr-var-dtype,\n",
       ".xr-preview,\n",
       ".xr-attrs dt {\n",
       "  white-space: nowrap;\n",
       "  overflow: hidden;\n",
       "  text-overflow: ellipsis;\n",
       "  padding-right: 10px;\n",
       "}\n",
       "\n",
       ".xr-var-name:hover,\n",
       ".xr-var-dims:hover,\n",
       ".xr-var-dtype:hover,\n",
       ".xr-attrs dt:hover {\n",
       "  overflow: visible;\n",
       "  width: auto;\n",
       "  z-index: 1;\n",
       "}\n",
       "\n",
       ".xr-var-attrs,\n",
       ".xr-var-data,\n",
       ".xr-index-data {\n",
       "  display: none;\n",
       "  background-color: var(--xr-background-color) !important;\n",
       "  padding-bottom: 5px !important;\n",
       "}\n",
       "\n",
       ".xr-var-attrs-in:checked ~ .xr-var-attrs,\n",
       ".xr-var-data-in:checked ~ .xr-var-data,\n",
       ".xr-index-data-in:checked ~ .xr-index-data {\n",
       "  display: block;\n",
       "}\n",
       "\n",
       ".xr-var-data > table {\n",
       "  float: right;\n",
       "}\n",
       "\n",
       ".xr-var-name span,\n",
       ".xr-var-data,\n",
       ".xr-index-name div,\n",
       ".xr-index-data,\n",
       ".xr-attrs {\n",
       "  padding-left: 25px !important;\n",
       "}\n",
       "\n",
       ".xr-attrs,\n",
       ".xr-var-attrs,\n",
       ".xr-var-data,\n",
       ".xr-index-data {\n",
       "  grid-column: 1 / -1;\n",
       "}\n",
       "\n",
       "dl.xr-attrs {\n",
       "  padding: 0;\n",
       "  margin: 0;\n",
       "  display: grid;\n",
       "  grid-template-columns: 125px auto;\n",
       "}\n",
       "\n",
       ".xr-attrs dt,\n",
       ".xr-attrs dd {\n",
       "  padding: 0;\n",
       "  margin: 0;\n",
       "  float: left;\n",
       "  padding-right: 10px;\n",
       "  width: auto;\n",
       "}\n",
       "\n",
       ".xr-attrs dt {\n",
       "  font-weight: normal;\n",
       "  grid-column: 1;\n",
       "}\n",
       "\n",
       ".xr-attrs dt:hover span {\n",
       "  display: inline-block;\n",
       "  background: var(--xr-background-color);\n",
       "  padding-right: 10px;\n",
       "}\n",
       "\n",
       ".xr-attrs dd {\n",
       "  grid-column: 2;\n",
       "  white-space: pre-wrap;\n",
       "  word-break: break-all;\n",
       "}\n",
       "\n",
       ".xr-icon-database,\n",
       ".xr-icon-file-text2,\n",
       ".xr-no-icon {\n",
       "  display: inline-block;\n",
       "  vertical-align: middle;\n",
       "  width: 1em;\n",
       "  height: 1.5em !important;\n",
       "  stroke-width: 0;\n",
       "  stroke: currentColor;\n",
       "  fill: currentColor;\n",
       "}\n",
       "</style><pre class='xr-text-repr-fallback'>&lt;xarray.DataArray (technology: 8)&gt; Size: 64B\n",
       "array([12. , 12.5, 11.9, 17.9, 16.8, 14. , 14. , 16.8])\n",
       "Coordinates:\n",
       "  * technology  (technology) &lt;U9 288B &#x27;ribbon-Si&#x27; &#x27;a-Si&#x27; ... &#x27;CIS&#x27; &#x27;CdTe&#x27;\n",
       "    year        int64 8B 2020</pre><div class='xr-wrap' style='display:none'><div class='xr-header'><div class='xr-obj-type'>xarray.DataArray</div><div class='xr-array-name'></div><ul class='xr-dim-list'><li><span class='xr-has-index'>technology</span>: 8</li></ul></div><ul class='xr-sections'><li class='xr-section-item'><div class='xr-array-wrap'><input id='section-501b85d6-84f6-4edb-a7d5-e63c347024d5' class='xr-array-in' type='checkbox' checked><label for='section-501b85d6-84f6-4edb-a7d5-e63c347024d5' title='Show/hide data repr'><svg class='icon xr-icon-database'><use xlink:href='#icon-database'></use></svg></label><div class='xr-array-preview xr-preview'><span>12.0 12.5 11.9 17.9 16.8 14.0 14.0 16.8</span></div><div class='xr-array-data'><pre>array([12. , 12.5, 11.9, 17.9, 16.8, 14. , 14. , 16.8])</pre></div></div></li><li class='xr-section-item'><input id='section-35a7ecde-e90a-4bb8-aff2-c21c6eb1996a' class='xr-section-summary-in' type='checkbox'  checked><label for='section-35a7ecde-e90a-4bb8-aff2-c21c6eb1996a' class='xr-section-summary' >Coordinates: <span>(2)</span></label><div class='xr-section-inline-details'></div><div class='xr-section-details'><ul class='xr-var-list'><li class='xr-var-item'><div class='xr-var-name'><span class='xr-has-index'>technology</span></div><div class='xr-var-dims'>(technology)</div><div class='xr-var-dtype'>&lt;U9</div><div class='xr-var-preview xr-preview'>&#x27;ribbon-Si&#x27; &#x27;a-Si&#x27; ... &#x27;CIS&#x27; &#x27;CdTe&#x27;</div><input id='attrs-5f96834f-3aa6-45c7-8a21-684a59ffaa36' class='xr-var-attrs-in' type='checkbox' disabled><label for='attrs-5f96834f-3aa6-45c7-8a21-684a59ffaa36' title='Show/Hide attributes'><svg class='icon xr-icon-file-text2'><use xlink:href='#icon-file-text2'></use></svg></label><input id='data-46c70ca2-5746-4811-9902-cff59943087f' class='xr-var-data-in' type='checkbox'><label for='data-46c70ca2-5746-4811-9902-cff59943087f' title='Show/Hide data repr'><svg class='icon xr-icon-database'><use xlink:href='#icon-database'></use></svg></label><div class='xr-var-attrs'><dl class='xr-attrs'></dl></div><div class='xr-var-data'><pre>array([&#x27;ribbon-Si&#x27;, &#x27;a-Si&#x27;, &#x27;micro-Si&#x27;, &#x27;single-Si&#x27;, &#x27;multi-Si&#x27;, &#x27;CIGS&#x27;, &#x27;CIS&#x27;,\n",
       "       &#x27;CdTe&#x27;], dtype=&#x27;&lt;U9&#x27;)</pre></div></li><li class='xr-var-item'><div class='xr-var-name'><span>year</span></div><div class='xr-var-dims'>()</div><div class='xr-var-dtype'>int64</div><div class='xr-var-preview xr-preview'>2020</div><input id='attrs-8cffec0c-7152-4d37-8abd-d7aa112fa0c0' class='xr-var-attrs-in' type='checkbox' disabled><label for='attrs-8cffec0c-7152-4d37-8abd-d7aa112fa0c0' title='Show/Hide attributes'><svg class='icon xr-icon-file-text2'><use xlink:href='#icon-file-text2'></use></svg></label><input id='data-baff6028-6243-464b-8141-c033c77fff6c' class='xr-var-data-in' type='checkbox'><label for='data-baff6028-6243-464b-8141-c033c77fff6c' title='Show/Hide data repr'><svg class='icon xr-icon-database'><use xlink:href='#icon-database'></use></svg></label><div class='xr-var-attrs'><dl class='xr-attrs'></dl></div><div class='xr-var-data'><pre>array(2020)</pre></div></li></ul></div></li><li class='xr-section-item'><input id='section-4500a15d-088f-4dcf-9730-32a8da2a6527' class='xr-section-summary-in' type='checkbox'  ><label for='section-4500a15d-088f-4dcf-9730-32a8da2a6527' class='xr-section-summary' >Indexes: <span>(1)</span></label><div class='xr-section-inline-details'></div><div class='xr-section-details'><ul class='xr-var-list'><li class='xr-var-item'><div class='xr-index-name'><div>technology</div></div><div class='xr-index-preview'>PandasIndex</div><div></div><input id='index-9cb3be08-27ea-4111-8f7e-8d69c1e72905' class='xr-index-data-in' type='checkbox'/><label for='index-9cb3be08-27ea-4111-8f7e-8d69c1e72905' title='Show/Hide index repr'><svg class='icon xr-icon-database'><use xlink:href='#icon-database'></use></svg></label><div class='xr-index-data'><pre>PandasIndex(Index([&#x27;ribbon-Si&#x27;, &#x27;a-Si&#x27;, &#x27;micro-Si&#x27;, &#x27;single-Si&#x27;, &#x27;multi-Si&#x27;, &#x27;CIGS&#x27;, &#x27;CIS&#x27;,\n",
       "       &#x27;CdTe&#x27;],\n",
       "      dtype=&#x27;object&#x27;, name=&#x27;technology&#x27;))</pre></div></li></ul></div></li><li class='xr-section-item'><input id='section-c67770a2-d0f2-4be3-a711-0ae3026fb546' class='xr-section-summary-in' type='checkbox' disabled ><label for='section-c67770a2-d0f2-4be3-a711-0ae3026fb546' class='xr-section-summary'  title='Expand/collapse section'>Attributes: <span>(0)</span></label><div class='xr-section-inline-details'></div><div class='xr-section-details'><dl class='xr-attrs'></dl></div></li></ul></div></div>"
      ],
      "text/plain": [
       "<xarray.DataArray (technology: 8)> Size: 64B\n",
       "array([12. , 12.5, 11.9, 17.9, 16.8, 14. , 14. , 16.8])\n",
       "Coordinates:\n",
       "  * technology  (technology) <U9 288B 'ribbon-Si' 'a-Si' ... 'CIS' 'CdTe'\n",
       "    year        int64 8B 2020"
      ]
     },
     "execution_count": 56,
     "metadata": {},
     "output_type": "execute_result"
    }
   ],
   "source": [
    "efficiency_da.interp(year=2020)"
   ]
  },
  {
   "cell_type": "markdown",
   "id": "72a1c547",
   "metadata": {},
   "source": [
    "### 6. Transforming Datasets:\n",
    "\n",
    "#### Module efficiency\n",
    "We want to look into the solar PV installation datasets and:\n",
    "1. Identify the installed power\n",
    "2. Identify the current efficiency\n",
    "3. Identifiy the technology\n",
    "4. Fetch the new efficiency\n",
    "5. Modify the inputs accodingly"
   ]
  },
  {
   "cell_type": "code",
   "execution_count": 57,
   "id": "2b3b2616",
   "metadata": {
    "tags": []
   },
   "outputs": [],
   "source": [
    "import re\n",
    "import numpy as np\n",
    "from prettytable import PrettyTable\n",
    "\n",
    "def fetch_pv_power(name):\n",
    "    # we use regular expression to extract the power from the dataset name (in kW)\n",
    "    power = float(re.findall(r\"[-+]?\\d*\\.\\d+|\\d+\", name)[0])\n",
    "    \n",
    "    # if in MW, convert to kW\n",
    "    if \"mwp\" in name.lower():\n",
    "        power *= 1000\n",
    "\n",
    "    return power\n",
    "\n",
    "def modify_module_efficiency(db, year):\n",
    "\n",
    "    modifications = []\n",
    "    \n",
    "    for dataset in ws.get_many(\n",
    "        db,\n",
    "        *pv_filter\n",
    "    ):\n",
    "    \n",
    "        power = fetch_pv_power(dataset[\"name\"])\n",
    "    \n",
    "        # we look for an input of PV panel, in square meters\n",
    "        for exc in ws.technosphere(\n",
    "            dataset,\n",
    "            *[\n",
    "                ws.either(\n",
    "                    ws.contains(\"name\", \"photovoltaic panel\"),\n",
    "                    ws.contains(\"name\", \"photovoltaic laminate\"),\n",
    "                ),\n",
    "                ws.equals(\"unit\", \"square meter\"),\n",
    "            ],\n",
    "        ):\n",
    "            surface = float(exc[\"amount\"])\n",
    "            max_power = surface  # in kW, since we assume a constant 1,000W/m^2\n",
    "            current_eff = power / max_power\n",
    "    \n",
    "            possible_techs = [\n",
    "                \"ribbon-Si\",\n",
    "                \"a-Si\",\n",
    "                \"micro-Si\",\n",
    "                \"single-Si\",\n",
    "                \"multi-Si\",\n",
    "                \"CIGS\",\n",
    "                \"CIS\",\n",
    "                \"CdTe\",\n",
    "            ]\n",
    "            pv_tech = [\n",
    "                i for i in possible_techs if i.lower() in exc[\"name\"].lower()\n",
    "            ]\n",
    "    \n",
    "            if len(pv_tech) > 0:\n",
    "                pv_tech = pv_tech[0]\n",
    "    \n",
    "                new_eff = efficiency_da.sel(technology=pv_tech).interp(year=year).values/100\n",
    "    \n",
    "                # in case self.year <2010 or >2050\n",
    "                new_eff = np.clip(new_eff, 0.1, 0.27)\n",
    "                \n",
    "                modifications.append(\n",
    "                    [dataset[\"name\"][-60:], power, pv_tech, round(current_eff, 2), round(new_eff, 2), round(float(current_eff / new_eff), 2)]\n",
    "                )\n",
    "                exc[\"amount\"] *= float(current_eff / new_eff)\n",
    "    \n",
    "    table = PrettyTable([\"Name\", \"Power\", \"Tech\", \"Current eff\", \"New eff\", \"Scaling factor\"])\n",
    "    table.add_rows(modifications)\n",
    "    print(table)\n",
    "\n",
    "    return db"
   ]
  },
  {
   "cell_type": "markdown",
   "id": "ff69df80-f1ef-443c-a53e-ebc0475a3960",
   "metadata": {},
   "source": [
    "### Extend Module Lifetime:\n",
    "\n",
    "Increase the operational lifetime of the solar PV modules from the typical 25 years to, say, 30 years in 2035 and 40 years in 2050.\n",
    "This modification will affect the input requirements per kilowatt hour produced."
   ]
  },
  {
   "cell_type": "code",
   "execution_count": 58,
   "id": "b53bb001-8ae9-4b2d-8b1c-084fc326edd0",
   "metadata": {
    "tags": []
   },
   "outputs": [],
   "source": [
    "def modify_pv_lifetime(db, current_lifetime, new_lifetime):\n",
    "\n",
    "    modifications = []\n",
    "    \n",
    "    # search where our PV panels are used:\n",
    "    for ds in ws.get_many(\n",
    "        db,\n",
    "        ws.contains(\"name\", \"electricity\"),\n",
    "        ws.equals(\"unit\", \"kilowatt hour\"),\n",
    "        ws.exclude(ws.contains(\"name\", \"renewable\"))\n",
    "    ):\n",
    "        for exc in ws.technosphere(\n",
    "            ds,\n",
    "            *pv_filter\n",
    "        ):\n",
    "            power = fetch_pv_power(exc[\"name\"])\n",
    "    \n",
    "            panel_fraction = exc[\"amount\"]\n",
    "            lifetime_production = 1/exc[\"amount\"]\n",
    "            annual_production = 1/exc[\"amount\"]/current_lifetime\n",
    "            annual_prod_per_kW = annual_production / power\n",
    "\n",
    "            exc[\"amount\"] *= current_lifetime/new_lifetime\n",
    "    \n",
    "            modifications.append(\n",
    "                [\n",
    "                    ds[\"name\"][-60:],\n",
    "                    ds[\"location\"],\n",
    "                    int(lifetime_production),\n",
    "                    int(annual_production),\n",
    "                    int(annual_prod_per_kW),\n",
    "                    '{:.2E}'.format(exc[\"amount\"]),\n",
    "                    '{:.2E}'.format(exc[\"amount\"] * current_lifetime/new_lifetime)\n",
    "                ]\n",
    "            )\n",
    "    \n",
    "    table = PrettyTable([\"Name\", \"Loc\", \"kWh/lifetime\", \"kWh/year\", \"kWh/year/kW\", \"Old input\", \"New input\"])\n",
    "    table.add_rows(modifications)\n",
    "    print(table)\n",
    "\n",
    "    return db"
   ]
  },
  {
   "cell_type": "markdown",
   "id": "c531e9cd-de3e-4e44-b17f-9d26599c8fc4",
   "metadata": {},
   "source": [
    "### Decarbonize the production of aluminium\n",
    "\n",
    "PV panel installations require substantial amounts of aliminium for the panel frame itself, but also, and mostly, for the mounting system.\n",
    "\n",
    "The production of alumiminium in certain regions still relies to a significant extent on fossil-based electricity (see *market for electricity, high voltage, aluminium industry*). The European Environmental Agency foresees that, while natural gas-based electricity will still be used by aluminum smelters, coal will slowly be phased out: by half by 2035, and completely by 2050.\n",
    "\n",
    "The European Environmental Agency also thinks that natural gas-fired power plants will be 5% and 10% more efficient by 2035 and 2050, relative to today. "
   ]
  },
  {
   "cell_type": "code",
   "execution_count": 59,
   "id": "c379e3a2-477f-464a-a48f-d6802876b14d",
   "metadata": {
    "tags": []
   },
   "outputs": [],
   "source": [
    "def modify_al_electricity_mix(db, scaling_factor_coal, scaling_factor_coal_ng):\n",
    "\n",
    "    ############### Aluminium electricity mix #################\n",
    "    modifications = []\n",
    "\n",
    "    for ds in ws.get_many(\n",
    "            db,\n",
    "            ws.contains(\"name\", \"market for electricity, high voltage, aluminium industry\"),\n",
    "            ws.equals(\"unit\", \"kilowatt hour\"),\n",
    "        ):\n",
    "\n",
    "        shares, surplus = {}, 0\n",
    "\n",
    "        for exc in ws.technosphere(\n",
    "            ds,\n",
    "            ws.contains(\"name\", \"electricity production\"),\n",
    "            ws.contains(\"unit\", \"kilowatt hour\")\n",
    "        ):\n",
    "            shares[exc[\"name\"]] = {\"old\": exc[\"amount\"]}\n",
    "\n",
    "        \n",
    "        for tech, share in shares.items():\n",
    "            if \"coal\" in tech:\n",
    "                shares[tech][\"new\"] = share[\"old\"] * scaling_factor_coal\n",
    "                surplus = share[\"old\"] - share[\"new\"]\n",
    "\n",
    "        \n",
    "        for tech, share in shares.items():\n",
    "            if \"coal\" not in tech:\n",
    "                shares[tech][\"new\"] = share[\"old\"] + (surplus / (len(shares) - 1))\n",
    "                \n",
    "        for exc in ws.technosphere(\n",
    "            ds,\n",
    "            ws.contains(\"name\", \"electricity production\")             \n",
    "        ):\n",
    "            if exc[\"name\"] in shares:\n",
    "                exc[\"amount\"] = shares[exc[\"name\"]][\"new\"]\n",
    "\n",
    "        modifications.extend(\n",
    "            [\n",
    "                ds[\"name\"][-30:], ds[\"location\"], tech[-30:], round(v[\"old\"], 3), round(v[\"new\"], 3), round(sum(x[\"new\"] for x in shares.values()), 2)\n",
    "            ] for tech, v in shares.items()\n",
    "        )\n",
    "\n",
    "    table = PrettyTable([\"Name\", \"Loc\", \"Tech\", \"Old share\", \"New share\", \"Sum shares\"])\n",
    "    table.add_rows(modifications)\n",
    "    print(table)\n",
    "\n",
    "    ################ NG POWER PLANTS #####################\n",
    "\n",
    "    generation_filters = [\n",
    "        ws.contains('name', 'electricity production'),\n",
    "        ws.contains(\"name\", \"natural gas\"),\n",
    "        ws.equals('unit', 'kilowatt hour'),\n",
    "    ]\n",
    "\n",
    "    fuel_independent_cooling = ws.doesnt_contain_any('name', (\n",
    "        'water, decarbonised', ))\n",
    "\n",
    "    fuel_independent = ws.doesnt_contain_any('name', (\n",
    "        'Methane, fossil', 'Sulfur dioxide', 'Carbon monoxide, fossil',\n",
    "        'Nitrogen oxides', 'Dinitrogen monoxide', 'Particulates'\n",
    "    ))\n",
    "\n",
    "    for ds in ws.get_many(db, *generation_filters):\n",
    "\n",
    "        wurst.transformations.change_exchanges_by_constant_factor(\n",
    "            ds,\n",
    "            scaling_factor_coal_ng,  # Or whatever from input data\n",
    "            [fuel_independent_cooling],\n",
    "            [fuel_independent]\n",
    "        )\n",
    "    \n",
    "    return db"
   ]
  },
  {
   "cell_type": "markdown",
   "id": "29fba6e3-9331-404d-94f5-ec1048707c5e",
   "metadata": {},
   "source": [
    "### 7. Running the script:\n",
    "\n",
    "Run the three transformation functions for 2035 and 2050"
   ]
  },
  {
   "cell_type": "code",
   "execution_count": 60,
   "id": "81a5cd5f-76bb-43ee-a63d-c6490db758f9",
   "metadata": {
    "tags": []
   },
   "outputs": [
    {
     "name": "stdout",
     "output_type": "stream",
     "text": [
      "+--------------------------------------------------------------+-------+-----------+-------------+---------+----------------+\n",
      "|                             Name                             | Power |    Tech   | Current eff | New eff | Scaling factor |\n",
      "+--------------------------------------------------------------+-------+-----------+-------------+---------+----------------+\n",
      "| hotovoltaic flat-roof installation, 3kWp, single-Si, on roof |  3.0  | single-Si |     0.14    |   0.22  |      0.61      |\n",
      "| lanted-roof installation, 3kWp, CIS, panel, mounted, on roof |  3.0  |    CIS    |     0.1     |   0.19  |      0.55      |\n",
      "| de installation, 3kWp, multi-Si, panel, mounted, at building |  3.0  |  multi-Si |     0.13    |   0.21  |      0.62      |\n",
      "| nstallation, 3kWp, ribbon-Si, laminated, integrated, on roof |  3.0  | ribbon-Si |     0.12    |   0.13  |      0.91      |\n",
      "| d-roof installation, 3kWp, multi-Si, panel, mounted, on roof |  3.0  |  multi-Si |     0.13    |   0.21  |      0.62      |\n",
      "| -roof installation, 3kWp, ribbon-Si, panel, mounted, on roof |  3.0  | ribbon-Si |     0.12    |   0.13  |      0.91      |\n",
      "| anted-roof installation, 3kWp, a-Si, panel, mounted, on roof |  3.0  |    a-Si   |     0.06    |   0.13  |      0.47      |\n",
      "| -roof installation, 3kWp, single-Si, panel, mounted, on roof |  3.0  | single-Si |     0.14    |   0.22  |      0.61      |\n",
      "| oof installation, 3kWp, a-Si, laminated, integrated, on roof |  3.0  |    a-Si   |     0.06    |   0.13  |      0.47      |\n",
      "| llation, 3kWp, single-Si, laminated, integrated, at building |  3.0  | single-Si |     0.14    |   0.22  |      0.61      |\n",
      "| nstallation, 3kWp, single-Si, laminated, integrated, on roof |  3.0  | single-Si |     0.14    |   0.22  |      0.61      |\n",
      "| oof installation, 3kWp, CdTe, laminated, integrated, on roof |  3.0  |    CdTe   |     0.09    |   0.19  |      0.46      |\n",
      "| e installation, 3kWp, single-Si, panel, mounted, at building |  3.0  | single-Si |     0.14    |   0.22  |      0.61      |\n",
      "| installation, 3kWp, multi-Si, laminated, integrated, on roof |  3.0  |  multi-Si |     0.13    |   0.21  |      0.62      |\n",
      "| photovoltaic flat-roof installation, 3kWp, multi-Si, on roof |  3.0  |  multi-Si |     0.13    |   0.21  |      0.62      |\n",
      "| allation, 3kWp, multi-Si, laminated, integrated, at building |  3.0  |  multi-Si |     0.13    |   0.21  |      0.62      |\n",
      "+--------------------------------------------------------------+-------+-----------+-------------+---------+----------------+\n",
      "+--------------------------------------------------------------+-------+-----------+-------------+---------+----------------+\n",
      "|                             Name                             | Power |    Tech   | Current eff | New eff | Scaling factor |\n",
      "+--------------------------------------------------------------+-------+-----------+-------------+---------+----------------+\n",
      "| hotovoltaic flat-roof installation, 3kWp, single-Si, on roof |  3.0  | single-Si |     0.14    |   0.27  |      0.51      |\n",
      "| lanted-roof installation, 3kWp, CIS, panel, mounted, on roof |  3.0  |    CIS    |     0.1     |   0.23  |      0.44      |\n",
      "| de installation, 3kWp, multi-Si, panel, mounted, at building |  3.0  |  multi-Si |     0.13    |   0.24  |      0.52      |\n",
      "| nstallation, 3kWp, ribbon-Si, laminated, integrated, on roof |  3.0  | ribbon-Si |     0.12    |   0.14  |      0.86      |\n",
      "| d-roof installation, 3kWp, multi-Si, panel, mounted, on roof |  3.0  |  multi-Si |     0.13    |   0.24  |      0.52      |\n",
      "| -roof installation, 3kWp, ribbon-Si, panel, mounted, on roof |  3.0  | ribbon-Si |     0.12    |   0.14  |      0.86      |\n",
      "| anted-roof installation, 3kWp, a-Si, panel, mounted, on roof |  3.0  |    a-Si   |     0.06    |   0.14  |      0.44      |\n",
      "| -roof installation, 3kWp, single-Si, panel, mounted, on roof |  3.0  | single-Si |     0.14    |   0.27  |      0.51      |\n",
      "| oof installation, 3kWp, a-Si, laminated, integrated, on roof |  3.0  |    a-Si   |     0.06    |   0.14  |      0.44      |\n",
      "| llation, 3kWp, single-Si, laminated, integrated, at building |  3.0  | single-Si |     0.14    |   0.27  |      0.51      |\n",
      "| nstallation, 3kWp, single-Si, laminated, integrated, on roof |  3.0  | single-Si |     0.14    |   0.27  |      0.51      |\n",
      "| oof installation, 3kWp, CdTe, laminated, integrated, on roof |  3.0  |    CdTe   |     0.09    |   0.21  |      0.42      |\n",
      "| e installation, 3kWp, single-Si, panel, mounted, at building |  3.0  | single-Si |     0.14    |   0.27  |      0.51      |\n",
      "| installation, 3kWp, multi-Si, laminated, integrated, on roof |  3.0  |  multi-Si |     0.13    |   0.24  |      0.52      |\n",
      "| photovoltaic flat-roof installation, 3kWp, multi-Si, on roof |  3.0  |  multi-Si |     0.13    |   0.24  |      0.52      |\n",
      "| allation, 3kWp, multi-Si, laminated, integrated, at building |  3.0  |  multi-Si |     0.13    |   0.24  |      0.52      |\n",
      "+--------------------------------------------------------------+-------+-----------+-------------+---------+----------------+\n",
      "+--------------------------------------------------------------+-----+--------------+----------+-------------+-----------+-----------+\n",
      "|                             Name                             | Loc | kWh/lifetime | kWh/year | kWh/year/kW | Old input | New input |\n",
      "+--------------------------------------------------------------+-----+--------------+----------+-------------+-----------+-----------+\n",
      "| uction, photovoltaic, 3kWp flat-roof installation, single-Si |  CH |    82980     |   3319   |     1106    |  1.00E-05 |  8.37E-06 |\n",
      "|  3kWp slanted-roof installation, CdTe, laminated, integrated |  CH |    82980     |   3319   |     1106    |  1.00E-05 |  8.37E-06 |\n",
      "| c, 3kWp slanted-roof installation, ribbon-Si, panel, mounted |  CH |    82980     |   3319   |     1106    |  1.00E-05 |  8.37E-06 |\n",
      "| ovoltaic, 3kWp facade installation, multi-Si, panel, mounted |  CH |    55800     |   2232   |     744     |  1.49E-05 |  1.24E-05 |\n",
      "| p slanted-roof installation, multi-Si, laminated, integrated |  CH |    82980     |   3319   |     1106    |  1.00E-05 |  8.37E-06 |\n",
      "|  slanted-roof installation, single-Si, laminated, integrated |  CH |    82980     |   3319   |     1106    |  1.00E-05 |  8.37E-06 |\n",
      "| oltaic, 3kWp slanted-roof installation, a-Si, panel, mounted |  CH |    82980     |   3319   |     1106    |  1.00E-05 |  8.37E-06 |\n",
      "| ic, 3kWp slanted-roof installation, multi-Si, panel, mounted |  CH |    86360     |   3454   |     1151    |  9.65E-06 |  8.04E-06 |\n",
      "|  slanted-roof installation, ribbon-Si, laminated, integrated |  CH |    82980     |   3319   |     1106    |  1.00E-05 |  8.37E-06 |\n",
      "| c, 3kWp slanted-roof installation, single-Si, panel, mounted |  CH |    73857     |   2954   |     984     |  1.13E-05 |  9.40E-06 |\n",
      "| voltaic, 3kWp slanted-roof installation, CIS, panel, mounted |  CH |    82980     |   3319   |     1106    |  1.00E-05 |  8.37E-06 |\n",
      "| voltaic, 3kWp facade installation, single-Si, panel, mounted |  CH |    55800     |   2232   |     744     |  1.49E-05 |  1.24E-05 |\n",
      "|  3kWp slanted-roof installation, a-Si, laminated, integrated |  CH |    82980     |   3319   |     1106    |  1.00E-05 |  8.37E-06 |\n",
      "| , 3kWp facade installation, single-Si, laminated, integrated |  CH |    55800     |   2232   |     744     |  1.49E-05 |  1.24E-05 |\n",
      "| duction, photovoltaic, 3kWp flat-roof installation, multi-Si |  CH |    82980     |   3319   |     1106    |  1.00E-05 |  8.37E-06 |\n",
      "| c, 3kWp facade installation, multi-Si, laminated, integrated |  CH |    55800     |   2232   |     744     |  1.49E-05 |  1.24E-05 |\n",
      "+--------------------------------------------------------------+-----+--------------+----------+-------------+-----------+-----------+\n",
      "+--------------------------------------------------------------+-----+--------------+----------+-------------+-----------+-----------+\n",
      "|                             Name                             | Loc | kWh/lifetime | kWh/year | kWh/year/kW | Old input | New input |\n",
      "+--------------------------------------------------------------+-----+--------------+----------+-------------+-----------+-----------+\n",
      "| uction, photovoltaic, 3kWp flat-roof installation, single-Si |  CH |    82980     |   3319   |     1106    |  7.53E-06 |  4.71E-06 |\n",
      "|  3kWp slanted-roof installation, CdTe, laminated, integrated |  CH |    82980     |   3319   |     1106    |  7.53E-06 |  4.71E-06 |\n",
      "| c, 3kWp slanted-roof installation, ribbon-Si, panel, mounted |  CH |    82980     |   3319   |     1106    |  7.53E-06 |  4.71E-06 |\n",
      "| ovoltaic, 3kWp facade installation, multi-Si, panel, mounted |  CH |    55800     |   2232   |     744     |  1.12E-05 |  7.00E-06 |\n",
      "| p slanted-roof installation, multi-Si, laminated, integrated |  CH |    82980     |   3319   |     1106    |  7.53E-06 |  4.71E-06 |\n",
      "|  slanted-roof installation, single-Si, laminated, integrated |  CH |    82980     |   3319   |     1106    |  7.53E-06 |  4.71E-06 |\n",
      "| oltaic, 3kWp slanted-roof installation, a-Si, panel, mounted |  CH |    82980     |   3319   |     1106    |  7.53E-06 |  4.71E-06 |\n",
      "| ic, 3kWp slanted-roof installation, multi-Si, panel, mounted |  CH |    86360     |   3454   |     1151    |  7.24E-06 |  4.52E-06 |\n",
      "|  slanted-roof installation, ribbon-Si, laminated, integrated |  CH |    82980     |   3319   |     1106    |  7.53E-06 |  4.71E-06 |\n",
      "| c, 3kWp slanted-roof installation, single-Si, panel, mounted |  CH |    73857     |   2954   |     984     |  8.46E-06 |  5.29E-06 |\n",
      "| voltaic, 3kWp slanted-roof installation, CIS, panel, mounted |  CH |    82980     |   3319   |     1106    |  7.53E-06 |  4.71E-06 |\n",
      "| voltaic, 3kWp facade installation, single-Si, panel, mounted |  CH |    55800     |   2232   |     744     |  1.12E-05 |  7.00E-06 |\n",
      "|  3kWp slanted-roof installation, a-Si, laminated, integrated |  CH |    82980     |   3319   |     1106    |  7.53E-06 |  4.71E-06 |\n",
      "| , 3kWp facade installation, single-Si, laminated, integrated |  CH |    55800     |   2232   |     744     |  1.12E-05 |  7.00E-06 |\n",
      "| duction, photovoltaic, 3kWp flat-roof installation, multi-Si |  CH |    82980     |   3319   |     1106    |  7.53E-06 |  4.71E-06 |\n",
      "| c, 3kWp facade installation, multi-Si, laminated, integrated |  CH |    55800     |   2232   |     744     |  1.12E-05 |  7.00E-06 |\n",
      "+--------------------------------------------------------------+-----+--------------+----------+-------------+-----------+-----------+\n",
      "+--------------------------------+----------------------------------------+--------------------------------+-----------+-----------+------------+\n",
      "|              Name              |                  Loc                   |              Tech              | Old share | New share | Sum shares |\n",
      "+--------------------------------+----------------------------------------+--------------------------------+-----------+-----------+------------+\n",
      "| gh voltage, aluminium industry | IAI Area, Asia, without China and GCC  | tion, coal, aluminium industry |    0.86   |    0.43   |    1.0     |\n",
      "| gh voltage, aluminium industry | IAI Area, Asia, without China and GCC  | ion, hydro, aluminium industry |    0.14   |    0.57   |    1.0     |\n",
      "| gh voltage, aluminium industry |         IAI Area, EU27 & EFTA          | ction, oil, aluminium industry |   0.004   |   0.015   |    1.0     |\n",
      "| gh voltage, aluminium industry |         IAI Area, EU27 & EFTA          | ion, hydro, aluminium industry |   0.711   |   0.723   |    1.0     |\n",
      "| gh voltage, aluminium industry |         IAI Area, EU27 & EFTA          | tion, coal, aluminium industry |   0.092   |   0.046   |    1.0     |\n",
      "| gh voltage, aluminium industry |         IAI Area, EU27 & EFTA          | atural gas, aluminium industry |    0.05   |   0.061   |    1.0     |\n",
      "| gh voltage, aluminium industry |         IAI Area, EU27 & EFTA          | n, nuclear, aluminium industry |   0.143   |   0.155   |    1.0     |\n",
      "| gh voltage, aluminium industry |            IAI Area, Africa            | tion, coal, aluminium industry |    0.43   |   0.215   |    1.0     |\n",
      "| gh voltage, aluminium industry |            IAI Area, Africa            | ion, hydro, aluminium industry |    0.57   |   0.785   |    1.0     |\n",
      "| gh voltage, aluminium industry |                   CN                   | ion, hydro, aluminium industry |    0.1    |    0.55   |    1.0     |\n",
      "| gh voltage, aluminium industry |                   CN                   | tion, coal, aluminium industry |    0.9    |    0.45   |    1.0     |\n",
      "| gh voltage, aluminium industry |                   CA                   | atural gas, aluminium industry |   0.035   |   0.035   |    1.0     |\n",
      "| gh voltage, aluminium industry |                   CA                   | ion, hydro, aluminium industry |   0.965   |   0.965   |    1.0     |\n",
      "| gh voltage, aluminium industry |               UN-OCEANIA               | tion, coal, aluminium industry |    0.73   |   0.365   |    1.0     |\n",
      "| gh voltage, aluminium industry |               UN-OCEANIA               | ion, hydro, aluminium industry |    0.27   |   0.635   |    1.0     |\n",
      "| gh voltage, aluminium industry |        IAI Area, South America         | ion, hydro, aluminium industry |   0.727   |   0.727   |    1.0     |\n",
      "| gh voltage, aluminium industry |        IAI Area, South America         | atural gas, aluminium industry |   0.273   |   0.273   |    1.0     |\n",
      "| gh voltage, aluminium industry | IAI Area, Russia & RER w/o EU27 & EFTA | tion, coal, aluminium industry |   0.025   |   0.013   |    1.0     |\n",
      "| gh voltage, aluminium industry | IAI Area, Russia & RER w/o EU27 & EFTA | n, nuclear, aluminium industry |   0.042   |   0.048   |    1.0     |\n",
      "| gh voltage, aluminium industry | IAI Area, Russia & RER w/o EU27 & EFTA | ion, hydro, aluminium industry |   0.933   |   0.939   |    1.0     |\n",
      "| gh voltage, aluminium industry |                  RoW                   | n, nuclear, aluminium industry |    0.09   |   0.545   |    1.0     |\n",
      "| gh voltage, aluminium industry |                  RoW                   | tion, coal, aluminium industry |    0.91   |   0.455   |    1.0     |\n",
      "| gh voltage, aluminium industry |   IAI Area, Gulf Cooperation Council   | atural gas, aluminium industry |    1.0    |    1.0    |    1.0     |\n",
      "| gh voltage, aluminium industry |   IAI Area, Gulf Cooperation Council   | ction, oil, aluminium industry |    0.0    |    0.0    |    1.0     |\n",
      "+--------------------------------+----------------------------------------+--------------------------------+-----------+-----------+------------+\n",
      "+--------------------------------+----------------------------------------+--------------------------------+-----------+-----------+------------+\n",
      "|              Name              |                  Loc                   |              Tech              | Old share | New share | Sum shares |\n",
      "+--------------------------------+----------------------------------------+--------------------------------+-----------+-----------+------------+\n",
      "| gh voltage, aluminium industry | IAI Area, Asia, without China and GCC  | tion, coal, aluminium industry |    0.86   |    0.0    |    1.0     |\n",
      "| gh voltage, aluminium industry | IAI Area, Asia, without China and GCC  | ion, hydro, aluminium industry |    0.14   |    1.0    |    1.0     |\n",
      "| gh voltage, aluminium industry |         IAI Area, EU27 & EFTA          | ction, oil, aluminium industry |   0.004   |   0.027   |    1.0     |\n",
      "| gh voltage, aluminium industry |         IAI Area, EU27 & EFTA          | ion, hydro, aluminium industry |   0.711   |   0.734   |    1.0     |\n",
      "| gh voltage, aluminium industry |         IAI Area, EU27 & EFTA          | tion, coal, aluminium industry |   0.092   |    0.0    |    1.0     |\n",
      "| gh voltage, aluminium industry |         IAI Area, EU27 & EFTA          | atural gas, aluminium industry |    0.05   |   0.073   |    1.0     |\n",
      "| gh voltage, aluminium industry |         IAI Area, EU27 & EFTA          | n, nuclear, aluminium industry |   0.143   |   0.166   |    1.0     |\n",
      "| gh voltage, aluminium industry |            IAI Area, Africa            | tion, coal, aluminium industry |    0.43   |    0.0    |    1.0     |\n",
      "| gh voltage, aluminium industry |            IAI Area, Africa            | ion, hydro, aluminium industry |    0.57   |    1.0    |    1.0     |\n",
      "| gh voltage, aluminium industry |                   CN                   | ion, hydro, aluminium industry |    0.1    |    1.0    |    1.0     |\n",
      "| gh voltage, aluminium industry |                   CN                   | tion, coal, aluminium industry |    0.9    |    0.0    |    1.0     |\n",
      "| gh voltage, aluminium industry |                   CA                   | atural gas, aluminium industry |   0.035   |   0.035   |    1.0     |\n",
      "| gh voltage, aluminium industry |                   CA                   | ion, hydro, aluminium industry |   0.965   |   0.965   |    1.0     |\n",
      "| gh voltage, aluminium industry |               UN-OCEANIA               | tion, coal, aluminium industry |    0.73   |    0.0    |    1.0     |\n",
      "| gh voltage, aluminium industry |               UN-OCEANIA               | ion, hydro, aluminium industry |    0.27   |    1.0    |    1.0     |\n",
      "| gh voltage, aluminium industry |        IAI Area, South America         | ion, hydro, aluminium industry |   0.727   |   0.727   |    1.0     |\n",
      "| gh voltage, aluminium industry |        IAI Area, South America         | atural gas, aluminium industry |   0.273   |   0.273   |    1.0     |\n",
      "| gh voltage, aluminium industry | IAI Area, Russia & RER w/o EU27 & EFTA | tion, coal, aluminium industry |   0.025   |    0.0    |    1.0     |\n",
      "| gh voltage, aluminium industry | IAI Area, Russia & RER w/o EU27 & EFTA | n, nuclear, aluminium industry |   0.042   |   0.055   |    1.0     |\n",
      "| gh voltage, aluminium industry | IAI Area, Russia & RER w/o EU27 & EFTA | ion, hydro, aluminium industry |   0.933   |   0.945   |    1.0     |\n",
      "| gh voltage, aluminium industry |                  RoW                   | n, nuclear, aluminium industry |    0.09   |    1.0    |    1.0     |\n",
      "| gh voltage, aluminium industry |                  RoW                   | tion, coal, aluminium industry |    0.91   |    0.0    |    1.0     |\n",
      "| gh voltage, aluminium industry |   IAI Area, Gulf Cooperation Council   | atural gas, aluminium industry |    1.0    |    1.0    |    1.0     |\n",
      "| gh voltage, aluminium industry |   IAI Area, Gulf Cooperation Council   | ction, oil, aluminium industry |    0.0    |    0.0    |    1.0     |\n",
      "+--------------------------------+----------------------------------------+--------------------------------+-----------+-----------+------------+\n"
     ]
    }
   ],
   "source": [
    "db_2035 = modify_module_efficiency(db_2035, 2035)\n",
    "db_2050 = modify_module_efficiency(db_2050, 2050)\n",
    "\n",
    "db_2035 = modify_pv_lifetime(db_2035, 25, 30)\n",
    "db_2050 = modify_pv_lifetime(db_2050, 25, 40)\n",
    "\n",
    "db_2035 = modify_al_electricity_mix(db_2035, .5, .95)\n",
    "db_2050 = modify_al_electricity_mix(db_2050, 0, .9)"
   ]
  },
  {
   "cell_type": "markdown",
   "id": "d4183539",
   "metadata": {},
   "source": [
    "### 8. Exporting Databases:"
   ]
  },
  {
   "cell_type": "code",
   "execution_count": 61,
   "id": "a7b963f8-f829-42f9-9f8d-46c6a58a42de",
   "metadata": {
    "tags": []
   },
   "outputs": [
    {
     "data": {
      "text/plain": [
       "21238"
      ]
     },
     "execution_count": 61,
     "metadata": {},
     "output_type": "execute_result"
    }
   ],
   "source": [
    "len(db_2035)"
   ]
  },
  {
   "cell_type": "code",
   "execution_count": 62,
   "id": "4e3fe55a-a68c-4a70-8d03-7a4fbab83274",
   "metadata": {
    "tags": []
   },
   "outputs": [
    {
     "name": "stdout",
     "output_type": "stream",
     "text": [
      "Vacuuming database \n"
     ]
    }
   ],
   "source": [
    "if \"PV 2035\" in bw2data.databases:\n",
    "    del bw2data.databases[\"PV 2035\"]\n",
    "\n",
    "if \"PV 2050\" in bw2data.databases:\n",
    "    del bw2data.databases[\"PV 2050\"]"
   ]
  },
  {
   "cell_type": "code",
   "execution_count": 63,
   "id": "69b6f900-b405-4708-aa5e-4fb2b3b4b63b",
   "metadata": {
    "tags": []
   },
   "outputs": [
    {
     "name": "stdout",
     "output_type": "stream",
     "text": [
      "21238 datasets\n",
      "674593 exchanges\n",
      "0 unlinked exchanges\n",
      "  \n"
     ]
    },
    {
     "name": "stderr",
     "output_type": "stream",
     "text": [
      "Writing activities to SQLite3 database:\n",
      "0% [##############################] 100% | ETA: 00:00:00\n",
      "Total time elapsed: 00:00:13\n"
     ]
    },
    {
     "name": "stdout",
     "output_type": "stream",
     "text": [
      "Title: Writing activities to SQLite3 database:\n",
      "  Started: 04/03/2024 11:32:07\n",
      "  Finished: 04/03/2024 11:32:21\n",
      "  Total time elapsed: 00:00:13\n",
      "  CPU %: 99.30\n",
      "  Memory %: 30.48\n",
      "Created database: PV 2035\n",
      "21238 datasets\n",
      "674593 exchanges\n",
      "0 unlinked exchanges\n",
      "  \n"
     ]
    },
    {
     "name": "stderr",
     "output_type": "stream",
     "text": [
      "Writing activities to SQLite3 database:\n",
      "0% [##############################] 100% | ETA: 00:00:00\n",
      "Total time elapsed: 00:00:10\n"
     ]
    },
    {
     "name": "stdout",
     "output_type": "stream",
     "text": [
      "Title: Writing activities to SQLite3 database:\n",
      "  Started: 04/03/2024 11:33:00\n",
      "  Finished: 04/03/2024 11:33:10\n",
      "  Total time elapsed: 00:00:10\n",
      "  CPU %: 97.30\n",
      "  Memory %: 30.34\n",
      "Created database: PV 2050\n"
     ]
    }
   ],
   "source": [
    "wurst.write_brightway2_database(db_2035, \"PV 2035\")\n",
    "wurst.write_brightway2_database(db_2050, \"PV 2050\")"
   ]
  },
  {
   "cell_type": "markdown",
   "id": "7a5784ac-3084-4cdb-a1c8-081bf08abfb2",
   "metadata": {},
   "source": [
    "### 9. Comparing results:"
   ]
  },
  {
   "cell_type": "code",
   "execution_count": 64,
   "id": "4cef9ec0-9a38-483b-a4de-2a6b6e078c03",
   "metadata": {},
   "outputs": [],
   "source": [
    "FU = [\n",
    "    {act: 1} for db in [\n",
    "        \"ecoinvent 3.9.1 cutoff\", \"PV 2035\", \"PV 2050\"\n",
    "    ] for act in bw2data.Database(db) if \"electricity production\" in act[\"name\"]\n",
    "    and \"photovoltaic\" in act[\"name\"] and act[\"unit\"] == \"kilowatt hour\" \n",
    "    and act[\"location\"] == \"CH\"\n",
    "]"
   ]
  },
  {
   "cell_type": "code",
   "execution_count": 65,
   "id": "beda0a26-ff2d-4c66-8fed-cb33a4ffb1b7",
   "metadata": {},
   "outputs": [],
   "source": [
    "import bw2calc\n",
    "import matplotlib.pyplot as plt\n",
    "bw2data.projects.set_current(\"wurst\")"
   ]
  },
  {
   "cell_type": "code",
   "execution_count": 66,
   "id": "47a56177-91fa-4d50-8d30-2c9bd8ce8c4c",
   "metadata": {},
   "outputs": [],
   "source": [
    "method = [('IPCC 2021', 'climate change: fossil', 'global warming potential (GWP100)')]"
   ]
  },
  {
   "cell_type": "code",
   "execution_count": 67,
   "id": "a0ac26d6-8b18-4d3c-b1e2-32fdaa42bc8e",
   "metadata": {},
   "outputs": [],
   "source": [
    "bw2calc.multi_lca.calculation_setups[\"PVs\"] = {\n",
    "    \"inv\": FU,\n",
    "    \"ia\": method\n",
    "}"
   ]
  },
  {
   "cell_type": "code",
   "execution_count": 68,
   "id": "5dcb935f-1d14-4a59-8a62-802682bac5bc",
   "metadata": {},
   "outputs": [],
   "source": [
    "lca = bw2calc.MultiLCA(\"PVs\")"
   ]
  },
  {
   "cell_type": "code",
   "execution_count": 69,
   "id": "92382bfc-a2b8-42f8-a8f2-de89cfc1eb7a",
   "metadata": {},
   "outputs": [],
   "source": [
    "acts = [list(d.keys())[0] for d in lca.func_units]"
   ]
  },
  {
   "cell_type": "code",
   "execution_count": 70,
   "id": "06e6ed7d-7cc5-4f67-847c-7c915eb629cd",
   "metadata": {},
   "outputs": [],
   "source": [
    "import pandas as pd\n",
    "results = pd.DataFrame(\n",
    "    zip(\n",
    "        [a[\"name\"] for a in acts],\n",
    "        [a[\"database\"] for a in acts],\n",
    "        lca.results.flatten()\n",
    "    ),\n",
    "    columns=[\"name\", \"year\", \"GWP\"]\n",
    ")"
   ]
  },
  {
   "cell_type": "code",
   "execution_count": 71,
   "id": "00025806-6278-43c3-8820-0eb955b1cf20",
   "metadata": {
    "tags": []
   },
   "outputs": [
    {
     "data": {
      "text/html": [
       "<div>\n",
       "<style scoped>\n",
       "    .dataframe tbody tr th:only-of-type {\n",
       "        vertical-align: middle;\n",
       "    }\n",
       "\n",
       "    .dataframe tbody tr th {\n",
       "        vertical-align: top;\n",
       "    }\n",
       "\n",
       "    .dataframe thead th {\n",
       "        text-align: right;\n",
       "    }\n",
       "</style>\n",
       "<table border=\"1\" class=\"dataframe\">\n",
       "  <thead>\n",
       "    <tr style=\"text-align: right;\">\n",
       "      <th></th>\n",
       "      <th>name</th>\n",
       "      <th>year</th>\n",
       "      <th>GWP</th>\n",
       "    </tr>\n",
       "  </thead>\n",
       "  <tbody>\n",
       "    <tr>\n",
       "      <th>0</th>\n",
       "      <td>electricity production, photovoltaic, 3kWp fac...</td>\n",
       "      <td>ecoinvent 3.9.1 cutoff</td>\n",
       "      <td>0.118989</td>\n",
       "    </tr>\n",
       "    <tr>\n",
       "      <th>1</th>\n",
       "      <td>electricity production, photovoltaic, 3kWp sla...</td>\n",
       "      <td>ecoinvent 3.9.1 cutoff</td>\n",
       "      <td>0.066426</td>\n",
       "    </tr>\n",
       "    <tr>\n",
       "      <th>2</th>\n",
       "      <td>electricity production, photovoltaic, 3kWp sla...</td>\n",
       "      <td>ecoinvent 3.9.1 cutoff</td>\n",
       "      <td>0.080993</td>\n",
       "    </tr>\n",
       "    <tr>\n",
       "      <th>3</th>\n",
       "      <td>electricity production, photovoltaic, 3kWp fac...</td>\n",
       "      <td>ecoinvent 3.9.1 cutoff</td>\n",
       "      <td>0.137437</td>\n",
       "    </tr>\n",
       "    <tr>\n",
       "      <th>4</th>\n",
       "      <td>electricity production, photovoltaic, 3kWp sla...</td>\n",
       "      <td>ecoinvent 3.9.1 cutoff</td>\n",
       "      <td>0.043647</td>\n",
       "    </tr>\n",
       "  </tbody>\n",
       "</table>\n",
       "</div>"
      ],
      "text/plain": [
       "                                                name                    year  \\\n",
       "0  electricity production, photovoltaic, 3kWp fac...  ecoinvent 3.9.1 cutoff   \n",
       "1  electricity production, photovoltaic, 3kWp sla...  ecoinvent 3.9.1 cutoff   \n",
       "2  electricity production, photovoltaic, 3kWp sla...  ecoinvent 3.9.1 cutoff   \n",
       "3  electricity production, photovoltaic, 3kWp fac...  ecoinvent 3.9.1 cutoff   \n",
       "4  electricity production, photovoltaic, 3kWp sla...  ecoinvent 3.9.1 cutoff   \n",
       "\n",
       "        GWP  \n",
       "0  0.118989  \n",
       "1  0.066426  \n",
       "2  0.080993  \n",
       "3  0.137437  \n",
       "4  0.043647  "
      ]
     },
     "execution_count": 71,
     "metadata": {},
     "output_type": "execute_result"
    }
   ],
   "source": [
    "results.head()"
   ]
  },
  {
   "cell_type": "code",
   "execution_count": 72,
   "id": "c38eba03-d026-4e49-a25f-7e9e4583722e",
   "metadata": {},
   "outputs": [
    {
     "name": "stderr",
     "output_type": "stream",
     "text": [
      "/var/folders/_s/t2tb7ghj5k77zblhgrk26qk80000gn/T/ipykernel_6838/3925095643.py:3: FutureWarning: Downcasting behavior in `replace` is deprecated and will be removed in a future version. To retain the old behavior, explicitly call `result.infer_objects(copy=False)`. To opt-in to the future behavior, set `pd.set_option('future.no_silent_downcasting', True)`\n",
      "  results = results.replace(\"PV 2050\", 2050)\n"
     ]
    }
   ],
   "source": [
    "results = results.replace(\"ecoinvent 3.9.1 cutoff\", 2020)\n",
    "results = results.replace(\"PV 2035\", 2035)\n",
    "results = results.replace(\"PV 2050\", 2050)\n",
    "results[\"year\"] = results[\"year\"].astype(\"str\")"
   ]
  },
  {
   "cell_type": "code",
   "execution_count": 73,
   "id": "4c6a1c6c-4836-4658-ae83-385cbfe45373",
   "metadata": {},
   "outputs": [
    {
     "data": {
      "text/plain": [
       "Text(0, 0.5, 'kg CO$_2$-eq./kWh')"
      ]
     },
     "execution_count": 73,
     "metadata": {},
     "output_type": "execute_result"
    },
    {
     "data": {
      "image/png": "[encoded data removed]",
      "text/plain": [
       "<Figure size 640x480 with 1 Axes>"
      ]
     },
     "metadata": {},
     "output_type": "display_data"
    }
   ],
   "source": [
    "import seaborn as sns\n",
    "\n",
    "# plot with seaborn barplot\n",
    "sns.barplot(data=results, x='name', y='GWP', hue='year')\n",
    "\n",
    "plt.xticks([])\n",
    "plt.ylabel(\"kg CO$_2$-eq./kWh\")"
   ]
  },
  {
   "cell_type": "markdown",
   "id": "503ee7f2-ee6d-490d-b136-288d72319b14",
   "metadata": {},
   "source": [
    "### 10. Bonus: can you show the respective tranformation contributions?"
   ]
  },
  {
   "cell_type": "code",
   "execution_count": 74,
   "id": "4d5bcac7-d85e-4d71-bf4f-37dba4b721cd",
   "metadata": {},
   "outputs": [
    {
     "name": "stdout",
     "output_type": "stream",
     "text": [
      "+--------------------------------------------------------------+-------+-----------+-------------+---------+----------------+\n",
      "|                             Name                             | Power |    Tech   | Current eff | New eff | Scaling factor |\n",
      "+--------------------------------------------------------------+-------+-----------+-------------+---------+----------------+\n",
      "| hotovoltaic flat-roof installation, 3kWp, single-Si, on roof |  3.0  | single-Si |     0.14    |   0.27  |      0.51      |\n",
      "| lanted-roof installation, 3kWp, CIS, panel, mounted, on roof |  3.0  |    CIS    |     0.1     |   0.23  |      0.44      |\n",
      "| de installation, 3kWp, multi-Si, panel, mounted, at building |  3.0  |  multi-Si |     0.13    |   0.24  |      0.52      |\n",
      "| nstallation, 3kWp, ribbon-Si, laminated, integrated, on roof |  3.0  | ribbon-Si |     0.12    |   0.14  |      0.86      |\n",
      "| d-roof installation, 3kWp, multi-Si, panel, mounted, on roof |  3.0  |  multi-Si |     0.13    |   0.24  |      0.52      |\n",
      "| -roof installation, 3kWp, ribbon-Si, panel, mounted, on roof |  3.0  | ribbon-Si |     0.12    |   0.14  |      0.86      |\n",
      "| anted-roof installation, 3kWp, a-Si, panel, mounted, on roof |  3.0  |    a-Si   |     0.06    |   0.14  |      0.44      |\n",
      "| -roof installation, 3kWp, single-Si, panel, mounted, on roof |  3.0  | single-Si |     0.14    |   0.27  |      0.51      |\n",
      "| oof installation, 3kWp, a-Si, laminated, integrated, on roof |  3.0  |    a-Si   |     0.06    |   0.14  |      0.44      |\n",
      "| llation, 3kWp, single-Si, laminated, integrated, at building |  3.0  | single-Si |     0.14    |   0.27  |      0.51      |\n",
      "| nstallation, 3kWp, single-Si, laminated, integrated, on roof |  3.0  | single-Si |     0.14    |   0.27  |      0.51      |\n",
      "| oof installation, 3kWp, CdTe, laminated, integrated, on roof |  3.0  |    CdTe   |     0.09    |   0.21  |      0.42      |\n",
      "| e installation, 3kWp, single-Si, panel, mounted, at building |  3.0  | single-Si |     0.14    |   0.27  |      0.51      |\n",
      "| installation, 3kWp, multi-Si, laminated, integrated, on roof |  3.0  |  multi-Si |     0.13    |   0.24  |      0.52      |\n",
      "| photovoltaic flat-roof installation, 3kWp, multi-Si, on roof |  3.0  |  multi-Si |     0.13    |   0.24  |      0.52      |\n",
      "| allation, 3kWp, multi-Si, laminated, integrated, at building |  3.0  |  multi-Si |     0.13    |   0.24  |      0.52      |\n",
      "+--------------------------------------------------------------+-------+-----------+-------------+---------+----------------+\n",
      "21238 datasets\n",
      "674593 exchanges\n",
      "0 unlinked exchanges\n",
      "  \n"
     ]
    },
    {
     "name": "stderr",
     "output_type": "stream",
     "text": [
      "Writing activities to SQLite3 database:\n",
      "0% [##############################] 100% | ETA: 00:00:00\n",
      "Total time elapsed: 00:00:13\n"
     ]
    },
    {
     "name": "stdout",
     "output_type": "stream",
     "text": [
      "Title: Writing activities to SQLite3 database:\n",
      "  Started: 04/03/2024 11:34:48\n",
      "  Finished: 04/03/2024 11:35:02\n",
      "  Total time elapsed: 00:00:13\n",
      "  CPU %: 98.70\n",
      "  Memory %: 31.80\n",
      "Created database: PV 2050 - eff\n",
      "+--------------------------------------------------------------+-------+-----------+-------------+---------+----------------+\n",
      "|                             Name                             | Power |    Tech   | Current eff | New eff | Scaling factor |\n",
      "+--------------------------------------------------------------+-------+-----------+-------------+---------+----------------+\n",
      "| hotovoltaic flat-roof installation, 3kWp, single-Si, on roof |  3.0  | single-Si |     0.14    |   0.27  |      0.51      |\n",
      "| lanted-roof installation, 3kWp, CIS, panel, mounted, on roof |  3.0  |    CIS    |     0.1     |   0.23  |      0.44      |\n",
      "| de installation, 3kWp, multi-Si, panel, mounted, at building |  3.0  |  multi-Si |     0.13    |   0.24  |      0.52      |\n",
      "| nstallation, 3kWp, ribbon-Si, laminated, integrated, on roof |  3.0  | ribbon-Si |     0.12    |   0.14  |      0.86      |\n",
      "| d-roof installation, 3kWp, multi-Si, panel, mounted, on roof |  3.0  |  multi-Si |     0.13    |   0.24  |      0.52      |\n",
      "| -roof installation, 3kWp, ribbon-Si, panel, mounted, on roof |  3.0  | ribbon-Si |     0.12    |   0.14  |      0.86      |\n",
      "| anted-roof installation, 3kWp, a-Si, panel, mounted, on roof |  3.0  |    a-Si   |     0.06    |   0.14  |      0.44      |\n",
      "| -roof installation, 3kWp, single-Si, panel, mounted, on roof |  3.0  | single-Si |     0.14    |   0.27  |      0.51      |\n",
      "| oof installation, 3kWp, a-Si, laminated, integrated, on roof |  3.0  |    a-Si   |     0.06    |   0.14  |      0.44      |\n",
      "| llation, 3kWp, single-Si, laminated, integrated, at building |  3.0  | single-Si |     0.14    |   0.27  |      0.51      |\n",
      "| nstallation, 3kWp, single-Si, laminated, integrated, on roof |  3.0  | single-Si |     0.14    |   0.27  |      0.51      |\n",
      "| oof installation, 3kWp, CdTe, laminated, integrated, on roof |  3.0  |    CdTe   |     0.09    |   0.21  |      0.42      |\n",
      "| e installation, 3kWp, single-Si, panel, mounted, at building |  3.0  | single-Si |     0.14    |   0.27  |      0.51      |\n",
      "| installation, 3kWp, multi-Si, laminated, integrated, on roof |  3.0  |  multi-Si |     0.13    |   0.24  |      0.52      |\n",
      "| photovoltaic flat-roof installation, 3kWp, multi-Si, on roof |  3.0  |  multi-Si |     0.13    |   0.24  |      0.52      |\n",
      "| allation, 3kWp, multi-Si, laminated, integrated, at building |  3.0  |  multi-Si |     0.13    |   0.24  |      0.52      |\n",
      "+--------------------------------------------------------------+-------+-----------+-------------+---------+----------------+\n",
      "+--------------------------------------------------------------+-----+--------------+----------+-------------+-----------+-----------+\n",
      "|                             Name                             | Loc | kWh/lifetime | kWh/year | kWh/year/kW | Old input | New input |\n",
      "+--------------------------------------------------------------+-----+--------------+----------+-------------+-----------+-----------+\n",
      "| uction, photovoltaic, 3kWp flat-roof installation, single-Si |  CH |    82980     |   3319   |     1106    |  7.53E-06 |  4.71E-06 |\n",
      "|  3kWp slanted-roof installation, CdTe, laminated, integrated |  CH |    82980     |   3319   |     1106    |  7.53E-06 |  4.71E-06 |\n",
      "| c, 3kWp slanted-roof installation, ribbon-Si, panel, mounted |  CH |    82980     |   3319   |     1106    |  7.53E-06 |  4.71E-06 |\n",
      "| ovoltaic, 3kWp facade installation, multi-Si, panel, mounted |  CH |    55800     |   2232   |     744     |  1.12E-05 |  7.00E-06 |\n",
      "| p slanted-roof installation, multi-Si, laminated, integrated |  CH |    82980     |   3319   |     1106    |  7.53E-06 |  4.71E-06 |\n",
      "|  slanted-roof installation, single-Si, laminated, integrated |  CH |    82980     |   3319   |     1106    |  7.53E-06 |  4.71E-06 |\n",
      "| oltaic, 3kWp slanted-roof installation, a-Si, panel, mounted |  CH |    82980     |   3319   |     1106    |  7.53E-06 |  4.71E-06 |\n",
      "| ic, 3kWp slanted-roof installation, multi-Si, panel, mounted |  CH |    86360     |   3454   |     1151    |  7.24E-06 |  4.52E-06 |\n",
      "|  slanted-roof installation, ribbon-Si, laminated, integrated |  CH |    82980     |   3319   |     1106    |  7.53E-06 |  4.71E-06 |\n",
      "| c, 3kWp slanted-roof installation, single-Si, panel, mounted |  CH |    73857     |   2954   |     984     |  8.46E-06 |  5.29E-06 |\n",
      "| voltaic, 3kWp slanted-roof installation, CIS, panel, mounted |  CH |    82980     |   3319   |     1106    |  7.53E-06 |  4.71E-06 |\n",
      "| voltaic, 3kWp facade installation, single-Si, panel, mounted |  CH |    55800     |   2232   |     744     |  1.12E-05 |  7.00E-06 |\n",
      "|  3kWp slanted-roof installation, a-Si, laminated, integrated |  CH |    82980     |   3319   |     1106    |  7.53E-06 |  4.71E-06 |\n",
      "| , 3kWp facade installation, single-Si, laminated, integrated |  CH |    55800     |   2232   |     744     |  1.12E-05 |  7.00E-06 |\n",
      "| duction, photovoltaic, 3kWp flat-roof installation, multi-Si |  CH |    82980     |   3319   |     1106    |  7.53E-06 |  4.71E-06 |\n",
      "| c, 3kWp facade installation, multi-Si, laminated, integrated |  CH |    55800     |   2232   |     744     |  1.12E-05 |  7.00E-06 |\n",
      "+--------------------------------------------------------------+-----+--------------+----------+-------------+-----------+-----------+\n",
      "21238 datasets\n",
      "674593 exchanges\n",
      "0 unlinked exchanges\n",
      "  \n"
     ]
    },
    {
     "name": "stderr",
     "output_type": "stream",
     "text": [
      "Writing activities to SQLite3 database:\n",
      "0% [##############################] 100% | ETA: 00:00:00\n",
      "Total time elapsed: 00:00:14\n"
     ]
    },
    {
     "name": "stdout",
     "output_type": "stream",
     "text": [
      "Title: Writing activities to SQLite3 database:\n",
      "  Started: 04/03/2024 11:35:43\n",
      "  Finished: 04/03/2024 11:35:57\n",
      "  Total time elapsed: 00:00:14\n",
      "  CPU %: 98.10\n",
      "  Memory %: 31.90\n",
      "Created database: PV 2050 - eff - lifetime\n"
     ]
    }
   ],
   "source": [
    "db_2050_1 = load_db()\n",
    "db_2050_1 = modify_module_efficiency(db_2050_1, 2050)\n",
    "\n",
    "if \"PV 2050 - eff\" in bw2data.databases:\n",
    "    del bw2data.databases[\"PV 2050 - eff\"]\n",
    "    \n",
    "wurst.write_brightway2_database(db_2050_1, \"PV 2050 - eff\")\n",
    "\n",
    "db_2050_2 = load_db()\n",
    "db_2050_2 = modify_module_efficiency(db_2050_2, 2050)\n",
    "db_2050_2 = modify_pv_lifetime(db_2050_2, 25, 40)\n",
    "\n",
    "if \"PV 2050 - eff - lifetime\" in bw2data.databases:\n",
    "    del bw2data.databases[\"PV 2050 - eff - lifetime\"]\n",
    "    \n",
    "wurst.write_brightway2_database(db_2050_2, \"PV 2050 - eff - lifetime\")"
   ]
  },
  {
   "cell_type": "code",
   "execution_count": 75,
   "id": "263b2194-b266-4150-92ae-486c7affdf0d",
   "metadata": {},
   "outputs": [],
   "source": [
    "FU_contributions = [\n",
    "    {act: 1} for db in [\n",
    "        \"ecoinvent 3.9.1 cutoff\", \"PV 2050 - eff\", \"PV 2050 - eff - lifetime\", \"PV 2050\"\n",
    "    ] for act in bw2data.Database(db) if \"electricity production\" in act[\"name\"]\n",
    "    and \"photovoltaic\" in act[\"name\"] and act[\"unit\"] == \"kilowatt hour\" \n",
    "    and act[\"location\"] == \"CH\"\n",
    "]"
   ]
  },
  {
   "cell_type": "code",
   "execution_count": 76,
   "id": "8e3367d4-c31e-4f39-9f5c-b103a9fde31b",
   "metadata": {},
   "outputs": [],
   "source": [
    "bw2calc.multi_lca.calculation_setups[\"PVs - transf contributions\"] = {\n",
    "    \"inv\": FU_contributions,\n",
    "    \"ia\": method\n",
    "}"
   ]
  },
  {
   "cell_type": "code",
   "execution_count": 77,
   "id": "f7edd26a-b8f6-4f12-9d1f-88f17858b70c",
   "metadata": {},
   "outputs": [
    {
     "name": "stderr",
     "output_type": "stream",
     "text": [
      "/Users/romain/anaconda3/envs/wurst/lib/python3.11/site-packages/scikits/umfpack/umfpack.py:736: UmfpackWarning: (almost) singular matrix! (estimated cond. number: 2.53e+12)\n",
      "  warnings.warn(msg, UmfpackWarning)\n"
     ]
    }
   ],
   "source": [
    "lca = bw2calc.MultiLCA(\"PVs - transf contributions\")"
   ]
  },
  {
   "cell_type": "code",
   "execution_count": 78,
   "id": "d0d6e450-fbd5-4d98-8a73-c1e43a615981",
   "metadata": {},
   "outputs": [],
   "source": [
    "acts = [list(d.keys())[0] for d in lca.func_units]"
   ]
  },
  {
   "cell_type": "code",
   "execution_count": 79,
   "id": "8dd7f8a7-0581-4c36-8e3f-0770d8de57ba",
   "metadata": {},
   "outputs": [],
   "source": [
    "results = pd.DataFrame(\n",
    "    zip(\n",
    "        [a[\"name\"] for a in acts],\n",
    "        [a[\"database\"] for a in acts],\n",
    "        lca.results.flatten()\n",
    "    ),\n",
    "    columns=[\"name\", \"year\", \"GWP\"]\n",
    ")"
   ]
  },
  {
   "cell_type": "code",
   "execution_count": 80,
   "id": "49b0c26e-739c-4df5-9ff8-9e0499d8302d",
   "metadata": {},
   "outputs": [],
   "source": [
    "results = results.replace(\"ecoinvent 3.9.1 cutoff\", 2020)\n",
    "results = results.replace(\"PV 2050 - eff\", \"2050 -- 1 eff only\")\n",
    "results = results.replace(\"PV 2050 - eff - lifetime\", \"2050 -- 2 eff + lifetime ext.\")\n",
    "results = results.replace(\"PV 2050\", \"2050 -- 3 eff + lifetime ext. + coal phase out\")\n",
    "results[\"year\"] = results[\"year\"].astype(\"str\")"
   ]
  },
  {
   "cell_type": "code",
   "execution_count": 81,
   "id": "485d0694-7407-4986-942e-1650dd76b511",
   "metadata": {},
   "outputs": [
    {
     "data": {
      "text/plain": [
       "Text(0, 0.5, 'kg CO$_2$-eq./kWh')"
      ]
     },
     "execution_count": 81,
     "metadata": {},
     "output_type": "execute_result"
    },
    {
     "data": {
      "image/png": "[encoded data removed]",
      "text/plain": [
       "<Figure size 640x480 with 1 Axes>"
      ]
     },
     "metadata": {},
     "output_type": "display_data"
    }
   ],
   "source": [
    "# plot with seaborn barplot\n",
    "sns.barplot(data=results, x='name', y='GWP', hue='year')\n",
    "plt.xticks([])\n",
    "plt.ylabel(\"kg CO$_2$-eq./kWh\")"
   ]
  },
  {
   "cell_type": "markdown",
   "id": "6d629aea-6716-4671-ab15-2a783185468a",
   "metadata": {},
   "source": [
    "### 11. Bonus 2: Home storage systems\n",
    "\n",
    "#### Exercise: Estimating Home Energy Storage Capacity\n",
    "\n",
    "#### Background:\n",
    "You want to purchase a solar photovoltaic system for the roof of your residence. \n",
    "This system converts sunlight into electricity that powers your home. \n",
    "On days when the system produces more electricity than your home consumes, \n",
    "the excess energy can be stored in batteries for use during nighttime or on days when the sun isn't shining.\n",
    "\n",
    "#### Objective:\n",
    "\n",
    "1. Estimate the solar PV installation and storage capacities required for your home energy storage system, considering only \n",
    "the excess solar production that isn't consumed directly by the household during daylight time.\n",
    "2. Add the storage capacity in photovoltaic electricity production datasets\n",
    "3. Estimate the increase in carbon footprint resulting from home energy storage.\n",
    "\n",
    "Given:\n",
    "\n",
    "1. On average, your location in Switzerland receives 5 hours of effective sunlight per day (i.e., full load).\n",
    "2. Your household's electricity consumption is 10 kWh during daylight, and 5 kWh during nighttime.\n",
    "3. You want the storage system to provide enough for the nighttime.\n",
    "4. Batteries typically have a recommended Depth of Discharge (DoD) of 90%, meaning only 90% of their total capacity should be used to ensure a longer lifespan.\n",
    "Energy storage systems have a round-trip efficiency of 80%. This accounts for energy losses during the charging and discharging processes. Also,\n",
    "we assume a 3,000 cycles lifetime for the battery cells (where 1 day = 1 cycle), while the Balance of Plant can outlast the PV installation.\n",
    "Finally, 30% of the battery system mass is the Balance of Plant."
   ]
  },
  {
   "cell_type": "code",
   "execution_count": 82,
   "id": "a7094b3d-50c1-4d4d-a9f6-edc23c0b21ec",
   "metadata": {},
   "outputs": [
    {
     "data": {
      "text/plain": [
       "3.0"
      ]
     },
     "execution_count": 82,
     "metadata": {},
     "output_type": "execute_result"
    }
   ],
   "source": [
    "# Given values for total daily consumption\n",
    "total_daily_consumption = 15  # kWh (10 kWh daytime + 5 kWh evening)\n",
    "average_sunlight_hours = 5 # hours\n",
    "\n",
    "# Calculate the required solar installation capacity for total daily consumption\n",
    "required_total_solar_capacity = total_daily_consumption / average_sunlight_hours\n",
    "required_total_solar_capacity # kWp"
   ]
  },
  {
   "cell_type": "code",
   "execution_count": 83,
   "id": "f9b25ee9-08c0-4f70-9b56-e1e789646ec6",
   "metadata": {},
   "outputs": [
    {
     "data": {
      "text/plain": [
       "7"
      ]
     },
     "execution_count": 83,
     "metadata": {},
     "output_type": "execute_result"
    }
   ],
   "source": [
    "# storage capacity\n",
    "net_storage_capacity = 5 # kWh\n",
    "net_storage_capacity /= .9 # Depth of Discharge\n",
    "net_storage_capacity /= .8 # 80% round-trip efficiency\n",
    "\n",
    "round(net_storage_capacity)"
   ]
  },
  {
   "cell_type": "code",
   "execution_count": 84,
   "id": "f94c0410-f9e9-4d12-97b8-6e07eb33ea23",
   "metadata": {},
   "outputs": [],
   "source": [
    "db = load_db()"
   ]
  },
  {
   "cell_type": "code",
   "execution_count": 85,
   "id": "feff6ed1-0184-4e4f-b772-1188c30e8a8f",
   "metadata": {},
   "outputs": [
    {
     "name": "stdout",
     "output_type": "stream",
     "text": [
      "market for battery cell, Li-ion, LFP\n",
      "market for battery cell, Li-ion, NMC111\n",
      "market for battery cell, Li-ion, LiMn2O4\n",
      "market for battery cell, Li-ion, NMC811\n",
      "market for battery cell, Li-ion, NCA\n"
     ]
    }
   ],
   "source": [
    "import wurst.searching as ws\n",
    "# let's find battery cell LCIs\n",
    "for ds in ws.get_many(\n",
    "    db,\n",
    "    ws.contains(\"name\", \"battery cell, Li-ion\")\n",
    "):\n",
    "    print(ds[\"name\"])"
   ]
  },
  {
   "cell_type": "code",
   "execution_count": 86,
   "id": "7547f4a7-2203-4bcb-89fd-4bbb6a8924a9",
   "metadata": {},
   "outputs": [],
   "source": [
    "cells = ws.get_one(db, ws.contains(\"name\", \"market for battery cell, Li-ion, NMC811\"))\n",
    "BoP = ws.get_one(db, ws.contains(\"name\", \"battery management system production\"))"
   ]
  },
  {
   "cell_type": "code",
   "execution_count": 87,
   "id": "fc8d0b13-031a-4970-a706-a1ab11b61add",
   "metadata": {},
   "outputs": [],
   "source": [
    "# battery sizing\n",
    "# we assume 1 kg NMC cell = 0.2 kWh storage\n",
    "# and 30% of the system mass is the Balance of Plant\n",
    "cell_mass = 7 / 0.2\n",
    "BoP_mass = .3 * cell_mass / .7"
   ]
  },
  {
   "cell_type": "code",
   "execution_count": 88,
   "id": "b60117fe-43bb-49d6-917e-b85235ddcbf8",
   "metadata": {},
   "outputs": [],
   "source": [
    "lifetime_replacements = (25 * 365) / 3000 # 25 years lifetime for the PV, 3000 cycles for the battery"
   ]
  },
  {
   "cell_type": "code",
   "execution_count": 89,
   "id": "1eccc150-fe33-4ca7-9b1d-43c833a8e54a",
   "metadata": {},
   "outputs": [],
   "source": [
    "for ds in ws.get_many(\n",
    "    db,\n",
    "    ws.contains(\"name\", \"electricity production, photovoltaic\"),\n",
    "    ws.contains(\"name\", \"3kWp\"),\n",
    "    ws.equals(\"location\", \"CH\"),\n",
    "    ws.equals(\"unit\", \"kilowatt hour\")\n",
    "):\n",
    "    for exc in ws.technosphere(ds, ws.equals(\"unit\", \"unit\"), ws.contains(\"name\", \"photovoltaic\")):\n",
    "        production = 1 / exc[\"amount\"] #kWh/lifetime\n",
    "    ds[\"exchanges\"].extend(\n",
    "        [\n",
    "            {\"name\": cells[\"name\"], \"product\": cells[\"reference product\"], \"location\": cells[\"location\"], \"unit\": cells[\"unit\"], \"amount\": cell_mass * lifetime_replacements / production, \"type\": \"technosphere\"},\n",
    "            {\"name\": BoP[\"name\"], \"product\": BoP[\"reference product\"], \"location\": BoP[\"location\"], \"unit\": BoP[\"unit\"], \"amount\": BoP_mass / production, \"type\": \"technosphere\"},\n",
    "        ]\n",
    "        \n",
    "    )"
   ]
  },
  {
   "cell_type": "code",
   "execution_count": 90,
   "id": "50b975b5-dcdd-42fe-8b2f-e68942f94db5",
   "metadata": {},
   "outputs": [
    {
     "name": "stdout",
     "output_type": "stream",
     "text": [
      "21238 datasets\n",
      "674629 exchanges\n",
      "0 unlinked exchanges\n",
      "  \n"
     ]
    },
    {
     "name": "stderr",
     "output_type": "stream",
     "text": [
      "Writing activities to SQLite3 database:\n",
      "0% [##############################] 100% | ETA: 00:00:00\n",
      "Total time elapsed: 00:00:10\n"
     ]
    },
    {
     "name": "stdout",
     "output_type": "stream",
     "text": [
      "Title: Writing activities to SQLite3 database:\n",
      "  Started: 04/03/2024 11:38:01\n",
      "  Finished: 04/03/2024 11:38:11\n",
      "  Total time elapsed: 00:00:10\n",
      "  CPU %: 98.20\n",
      "  Memory %: 30.92\n",
      "Created database: PV + storage\n"
     ]
    }
   ],
   "source": [
    "if \"PV + storage\" in bw2data.databases:\n",
    "    del bw2data.databases[\"PV + storage\"]\n",
    "wurst.write_brightway2_database(db, \"PV + storage\")"
   ]
  },
  {
   "cell_type": "code",
   "execution_count": 91,
   "id": "68cf1993-577a-4d16-8321-4d0a12a6a874",
   "metadata": {},
   "outputs": [],
   "source": [
    "FU_storage = [\n",
    "    {act: 1} for db in [\n",
    "        \"ecoinvent 3.9.1 cutoff\", \"PV + storage\", \n",
    "    ] for act in bw2data.Database(db) if \"electricity production\" in act[\"name\"]\n",
    "    and \"photovoltaic\" in act[\"name\"] and act[\"unit\"] == \"kilowatt hour\" \n",
    "    and act[\"location\"] == \"CH\" and \"3kWp\" in act[\"name\"]\n",
    "]"
   ]
  },
  {
   "cell_type": "code",
   "execution_count": 92,
   "id": "435e1b89-688d-4739-8ca6-dd1195327ada",
   "metadata": {},
   "outputs": [],
   "source": [
    "bw2calc.multi_lca.calculation_setups[\"PVs - energy storage\"] = {\n",
    "    \"inv\": FU_storage,\n",
    "    \"ia\": method\n",
    "}"
   ]
  },
  {
   "cell_type": "code",
   "execution_count": 93,
   "id": "9071896c-7b66-418f-9e82-b54a03f0872b",
   "metadata": {},
   "outputs": [
    {
     "name": "stderr",
     "output_type": "stream",
     "text": [
      "/Users/romain/anaconda3/envs/wurst/lib/python3.11/site-packages/scikits/umfpack/umfpack.py:736: UmfpackWarning: (almost) singular matrix! (estimated cond. number: 1.51e+12)\n",
      "  warnings.warn(msg, UmfpackWarning)\n"
     ]
    }
   ],
   "source": [
    "lca = bw2calc.MultiLCA(\"PVs - energy storage\")\n",
    "acts = [list(d.keys())[0] for d in lca.func_units]"
   ]
  },
  {
   "cell_type": "code",
   "execution_count": 94,
   "id": "21d53093-9a03-477e-bd97-79c1f7df07bd",
   "metadata": {},
   "outputs": [],
   "source": [
    "results = pd.DataFrame(\n",
    "    zip(\n",
    "        [a[\"name\"] for a in acts],\n",
    "        [a[\"database\"] for a in acts],\n",
    "        lca.results.flatten()\n",
    "    ),\n",
    "    columns=[\"name\", \"storage\", \"GWP\"]\n",
    ")"
   ]
  },
  {
   "cell_type": "code",
   "execution_count": 95,
   "id": "06f55e3d-514d-4603-b895-ff46c97187a0",
   "metadata": {},
   "outputs": [],
   "source": [
    "results = results.replace(\"ecoinvent 3.9.1 cutoff\", \"No storage\")\n",
    "results[\"year\"] = results[\"storage\"].astype(\"str\")"
   ]
  },
  {
   "cell_type": "code",
   "execution_count": 96,
   "id": "51904ede-8a7b-4eca-b614-20218d4b8dc7",
   "metadata": {},
   "outputs": [
    {
     "data": {
      "text/plain": [
       "Text(0, 0.5, 'kg CO$_2$-eq./kWh')"
      ]
     },
     "execution_count": 96,
     "metadata": {},
     "output_type": "execute_result"
    },
    {
     "data": {
      "image/png": "[encoded data removed]",
      "text/plain": [
       "<Figure size 640x480 with 1 Axes>"
      ]
     },
     "metadata": {},
     "output_type": "display_data"
    }
   ],
   "source": [
    "# plot with seaborn barplot\n",
    "sns.barplot(data=results, x='name', y='GWP', hue='storage')\n",
    "plt.xticks([])\n",
    "plt.ylabel(\"kg CO$_2$-eq./kWh\")"
   ]
  },
  {
   "cell_type": "code",
   "execution_count": null,
   "id": "b3906d8c-1bfa-4713-92c8-e0ca084796b7",
   "metadata": {},
   "outputs": [],
   "source": []
  }
 ],
 "metadata": {
  "kernelspec": {
   "display_name": "Python 3 (ipykernel)",
   "language": "python",
   "name": "python3"
  },
  "language_info": {
   "codemirror_mode": {
    "name": "ipython",
    "version": 3
   },
   "file_extension": ".py",
   "mimetype": "text/x-python",
   "name": "python",
   "nbconvert_exporter": "python",
   "pygments_lexer": "ipython3",
   "version": "3.11.8"
  }
 },
 "nbformat": 4,
 "nbformat_minor": 5
}
